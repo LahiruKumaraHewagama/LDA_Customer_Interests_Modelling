{
 "cells": [
  {
   "cell_type": "code",
   "execution_count": 1,
   "id": "8490c64c",
   "metadata": {},
   "outputs": [],
   "source": [
    "import numpy as np \n",
    "import pandas as pd\n",
    "import spacy\n",
    "import seaborn as sns\n",
    "import matplotlib.pyplot as plt\n",
    "import re\n",
    "import nltk\n",
    "from nltk.corpus import stopwords\n",
    "from sklearn.model_selection import train_test_split\n",
    "from sklearn.feature_extraction.text import CountVectorizer\n",
    "from sklearn import metrics\n",
    "from sklearn.metrics import classification_report, confusion_matrix\n",
    "from sklearn.metrics import roc_auc_score\n",
    "# Import f1_score\n",
    "from sklearn.metrics import f1_score\n",
    "\n",
    "\n",
    "nlp = spacy.load(\"en_core_web_sm\")"
   ]
  },
  {
   "cell_type": "markdown",
   "id": "7b21b662",
   "metadata": {},
   "source": [
    "#### Read Data"
   ]
  },
  {
   "cell_type": "code",
   "execution_count": 2,
   "id": "9b43be01",
   "metadata": {},
   "outputs": [
    {
     "data": {
      "text/html": [
       "<div>\n",
       "<style scoped>\n",
       "    .dataframe tbody tr th:only-of-type {\n",
       "        vertical-align: middle;\n",
       "    }\n",
       "\n",
       "    .dataframe tbody tr th {\n",
       "        vertical-align: top;\n",
       "    }\n",
       "\n",
       "    .dataframe thead th {\n",
       "        text-align: right;\n",
       "    }\n",
       "</style>\n",
       "<table border=\"1\" class=\"dataframe\">\n",
       "  <thead>\n",
       "    <tr style=\"text-align: right;\">\n",
       "      <th></th>\n",
       "      <th>rating</th>\n",
       "      <th>date</th>\n",
       "      <th>variation</th>\n",
       "      <th>verified_reviews</th>\n",
       "      <th>feedback</th>\n",
       "    </tr>\n",
       "  </thead>\n",
       "  <tbody>\n",
       "    <tr>\n",
       "      <th>0</th>\n",
       "      <td>5</td>\n",
       "      <td>31-Jul-18</td>\n",
       "      <td>Charcoal Fabric</td>\n",
       "      <td>Love my Echo!</td>\n",
       "      <td>1</td>\n",
       "    </tr>\n",
       "    <tr>\n",
       "      <th>1</th>\n",
       "      <td>5</td>\n",
       "      <td>31-Jul-18</td>\n",
       "      <td>Charcoal Fabric</td>\n",
       "      <td>Loved it!</td>\n",
       "      <td>1</td>\n",
       "    </tr>\n",
       "    <tr>\n",
       "      <th>2</th>\n",
       "      <td>4</td>\n",
       "      <td>31-Jul-18</td>\n",
       "      <td>Walnut Finish</td>\n",
       "      <td>Sometimes while playing a game, you can answer...</td>\n",
       "      <td>1</td>\n",
       "    </tr>\n",
       "    <tr>\n",
       "      <th>3</th>\n",
       "      <td>5</td>\n",
       "      <td>31-Jul-18</td>\n",
       "      <td>Charcoal Fabric</td>\n",
       "      <td>I have had a lot of fun with this thing. My 4 ...</td>\n",
       "      <td>1</td>\n",
       "    </tr>\n",
       "    <tr>\n",
       "      <th>4</th>\n",
       "      <td>5</td>\n",
       "      <td>31-Jul-18</td>\n",
       "      <td>Charcoal Fabric</td>\n",
       "      <td>Music</td>\n",
       "      <td>1</td>\n",
       "    </tr>\n",
       "  </tbody>\n",
       "</table>\n",
       "</div>"
      ],
      "text/plain": [
       "   rating       date         variation  \\\n",
       "0       5  31-Jul-18  Charcoal Fabric    \n",
       "1       5  31-Jul-18  Charcoal Fabric    \n",
       "2       4  31-Jul-18    Walnut Finish    \n",
       "3       5  31-Jul-18  Charcoal Fabric    \n",
       "4       5  31-Jul-18  Charcoal Fabric    \n",
       "\n",
       "                                    verified_reviews  feedback  \n",
       "0                                      Love my Echo!         1  \n",
       "1                                          Loved it!         1  \n",
       "2  Sometimes while playing a game, you can answer...         1  \n",
       "3  I have had a lot of fun with this thing. My 4 ...         1  \n",
       "4                                              Music         1  "
      ]
     },
     "execution_count": 2,
     "metadata": {},
     "output_type": "execute_result"
    }
   ],
   "source": [
    "data=pd.read_csv((\"amazon_alexa.tsv\"), sep='\\t')\n",
    "\n",
    "data.head()"
   ]
  },
  {
   "cell_type": "markdown",
   "id": "53b0dd6f",
   "metadata": {},
   "source": [
    "#### Visualize ratings"
   ]
  },
  {
   "cell_type": "code",
   "execution_count": 3,
   "id": "937372d5",
   "metadata": {},
   "outputs": [
    {
     "data": {
      "image/png": "[encoded data removed]",
      "text/plain": [
       "<Figure size 432x288 with 1 Axes>"
      ]
     },
     "metadata": {
      "needs_background": "light"
     },
     "output_type": "display_data"
    }
   ],
   "source": [
    "sns.set(rc={'figure.figsize':(8,8)})\n",
    "\n",
    "ax = sns.countplot(x=\"rating\", data=data)\n",
    "\n",
    "for p in ax.patches:\n",
    "    ax.annotate(f'\\n{p.get_height()}', (p.get_x()+0.2, p.get_height()), ha='center', va='top', color='white', size=10)"
   ]
  },
  {
   "cell_type": "markdown",
   "id": "6b28e8cd",
   "metadata": {},
   "source": [
    "#### visualize feedback"
   ]
  },
  {
   "cell_type": "code",
   "execution_count": 4,
   "id": "5cb0142f",
   "metadata": {},
   "outputs": [
    {
     "data": {
      "text/plain": [
       "<AxesSubplot:xlabel='feedback', ylabel='count'>"
      ]
     },
     "execution_count": 4,
     "metadata": {},
     "output_type": "execute_result"
    },
    {
     "data": {
      "image/png": "[encoded data removed]",
      "text/plain": [
       "<Figure size 432x288 with 1 Axes>"
      ]
     },
     "metadata": {
      "needs_background": "light"
     },
     "output_type": "display_data"
    }
   ],
   "source": [
    "sns.countplot(x=\"feedback\", data=data)"
   ]
  },
  {
   "cell_type": "markdown",
   "id": "d1f13e3d",
   "metadata": {},
   "source": [
    "#### Bag of words model created using sklearn counter vectorizer"
   ]
  },
  {
   "cell_type": "code",
   "execution_count": 5,
   "id": "2be69aec",
   "metadata": {},
   "outputs": [
    {
     "name": "stdout",
     "output_type": "stream",
     "text": [
      "['00', '000', '07', '10', '100', '100x', '11', '1100sf', '12', '129', '12am', '15', '150', '18', '19', '1964', '1990', '1gb', '1rst', '1st', '20', '200', '2000', '2017', '229', '23', '24', '25', '29', '2nd', '2package', '30', '300', '30pm', '34', '360', '39', '3rd', '3x', '3xs', '40', '45', '48', '4am', '4ghz', '4k', '4th', '50', '54', '5am', '5ghz', '5th', '600', '62', '672', '6th', '70', '75', '79', '80', '80s', '81', '83', '85', '88', '888', '8gb', '90', '91', '911', '99', '_specifically_', 'a1', 'a19', 'abay', 'abc', 'abd', 'abilities', 'ability', 'able', 'abode', 'about', 'above', 'absolutely', 'absolutly', 'ac', 'accent', 'acceptable', 'accepting', 'access', 'accessable', 'accessible', 'accessing', 'accessories', 'accesss', 'accident', 'accidentally', 'accompanying', 'accomplish', 'accomplished', 'according', 'accordingly', 'account', 'accounts', 'accuracy', 'accurate', 'accurately', 'accustom', 'acknowledge', 'acoustical', 'across', 'act', 'acting', 'action', 'actions', 'activate', 'activated', 'activates', 'activating', 'activation', 'actively', 'activities', 'acts', 'actually', 'ad', 'adapted', 'adapter', 'adapting', 'add', 'added', 'addict', 'addicted', 'addicts', 'adding', 'addition', 'additional', 'additionally', 'addons', 'addressed', 'addresses', 'adds', 'adept', 'adequate', 'adjacent', 'adjust', 'adjusting', 'adjustment', 'adjusts', 'admit', 'adopters', 'adorable', 'ads', 'adults', 'advance', 'advanced', 'advantage', 'advantages', 'advertise', 'advertised', 'advertisement', 'advertising', 'advice', 'advise', 'advised', 'aesthetic', 'af', 'affirm', 'affirmations', 'afford', 'affordable', 'afraid', 'after', 'afternoon', 'afterwards', 'again', 'age', 'agent', 'ages', 'ago', 'agree', 'agreement', 'ahead', 'ai', 'aide', 'aint', 'air', 'aka', 'al', 'alabama', 'alarm', 'alarms', 'albeit', 'alcohol', 'alert', 'alerts', 'alex', 'alexa', 'alexas', 'alexi', 'alexia', 'alexis', 'alexus', 'algo', 'alive', 'all', 'alleviate', 'allow', 'allowed', 'allowing', 'allows', 'allrecipes', 'almost', 'alone', 'along', 'alongside', 'alot', 'alots', 'aloud', 'alread', 'already', 'alright', 'also', 'altering', 'alternative', 'alternatives', 'although', 'always', 'am', 'amaonmazing', 'amaxing', 'amaze', 'amazed', 'amazin', 'amazing', 'amazingly', 'amazon', 'amazonia', 'amazons', 'ambient', 'american', 'americans', 'among', 'amount', 'amounts', 'amozon', 'amplifier', 'amused', 'amusing', 'an', 'analog', 'and', 'android', 'ands', 'angle', 'annoying', 'another', 'answer', 'answered', 'answering', 'answers', 'ant', 'anti', 'anticipate', 'anticipated', 'any', 'anybody', 'anyhow', 'anylist', 'anymore', 'anyone', 'anypod', 'anything', 'anytime', 'anyway', 'anyways', 'anywhere', 'apartment', 'app', 'apparent', 'apparently', 'appealing', 'appear', 'appears', 'apple', 'appliance', 'appliances', 'application', 'applications', 'appointments', 'appreciated', 'apprehensive', 'approaching', 'appropriate', 'approximately', 'apps', 'are', 'area', 'areas', 'aren', 'arent', 'argue', 'argument', 'arguments', 'arises', 'arlo', 'arm', 'around', 'array', 'arrive', 'arrived', 'arriving', 'articles', 'artist', 'artists', 'as', 'asap', 'ase', 'ask', 'asked', 'askes', 'asking', 'asleep', 'aspect', 'aspects', 'ass', 'assigned', 'assist', 'assistance', 'assistant', 'assume', 'assumed', 'assuming', 'assumption', 'at', 'atención', 'atmosphere', 'atrás', 'attach', 'attached', 'attachment', 'attempt', 'attempted', 'attempting', 'attention', 'attractive', 'audible', 'audibles', 'audio', 'audioapple', 'audiobook', 'audiobooks', 'audiophile', 'august', 'aunt', 'auto', 'automatic', 'automatically', 'automation', 'aux', 'auxiliary', 'av', 'avail', 'availability', 'available', 'avoid', 'awake', 'aware', 'away', 'awesome', 'awful', 'awhile', 'awkward', 'awsome', 'b073sqyxtw', 'baby', 'back', 'background', 'backgrounds', 'backyard', 'bad', 'baffle', 'baffled', 'ball', 'ban', 'band', 'bandwagon', 'bandwidth', 'bang', 'bar', 'bare', 'barely', 'bargain', 'bark', 'barn', 'barret', 'barry', 'base', 'baseball', 'based', 'basement', 'basic', 'basically', 'bass', 'bathroom', 'bathrooms', 'batman', 'batteries', 'battery', 'bc', 'be', 'beam', 'beat', 'beautiful', 'beautifully', 'beauty', 'became', 'because', 'becausse', 'become', 'becomes', 'becoming', 'bed', 'bedroom', 'bedrooms', 'bedside', 'bedtime', 'beefy', 'been', 'before', 'begin', 'beginners', 'beginning', 'begun', 'behaved', 'behind', 'being', 'believe', 'believer', 'bells', 'belong', 'below', 'benefit', 'benefits', 'beside', 'besides', 'best', 'bet', 'beta', 'better', 'bettter', 'between', 'beyond', 'bezel', 'bezos', 'bf', 'bff', 'bible', 'big', 'bigger', 'biggest', 'bill', 'billboard', 'bills', 'bing', 'birth', 'birthday', 'bit', 'bizarre', 'black', 'blanket', 'blast', 'blasting', 'blessing', 'blind', 'blink', 'blinks', 'blocking', 'bloods', 'bloomberg', 'blown', 'blows', 'blue', 'blueprints', 'bluetooth', 'blurring', 'board', 'boat', 'bob', 'body', 'bolt', 'bonkers', 'bonus', 'book', 'books', 'boom', 'boombox', 'booming', 'boost', 'boring', 'born', 'bose', 'boss', 'bot', 'both', 'bother', 'bothered', 'bothers', 'bothersome', 'bottom', 'bough', 'bought', 'box', 'boyfriend', 'brainer', 'brand', 'brandnew', 'brands', 'bread', 'break', 'breakfast', 'breeze', 'bridge', 'brief', 'briefing', 'briefings', 'briefs', 'bright', 'brightness', 'bring', 'bringing', 'british', 'broadway', 'broke', 'broken', 'brought', 'bt', 'bucks', 'buddies', 'budget', 'buffer', 'buffering', 'buffet', 'bug', 'bugging', 'bugs', 'build', 'building', 'built', 'bulb', 'bulbs', 'buld', 'bulky', 'bummed', 'bunch', 'bundle', 'bundled', 'burns', 'business', 'busy', 'but', 'buts', 'button', 'buttons', 'buy', 'buyer', 'buyers', 'buying', 'buys', 'buzzing', 'by', 'bye', 'cable', 'calendar', 'calendars', 'call', 'called', 'calling', 'calls', 'calm', 'calmer', 'cam', 'cambiar', 'came', 'camelot', 'camera', 'cameras', 'campus', 'cams', 'can', 'canary', 'cancel', 'canceling', 'cancelled', 'cancels', 'cannot', 'cant', 'capabilities', 'capability', 'capable', 'capacity', 'capasity', 'car', 'card', 'cards', 'cardsrotate', 'care', 'carefully', 'careless', 'carful', 'carolina', 'carrier', 'carry', 'cart', 'cartoons', 'case', 'cases', 'cat', 'catch', 'catches', 'categories', 'cause', 'caused', 'cave', 'cbs', 'cd', 'ceases', 'ceiling', 'ceilings', 'celebs', 'cell', 'cellphone', 'cent', 'center', 'certain', 'certainly', 'certified', 'chachki', 'chair', 'chalk', 'challenge', 'challenged', 'champ', 'chance', 'change', 'changed', 'changer', 'changes', 'changing', 'channel', 'channels', 'characteristics', 'charge', 'chargeable', 'charger', 'charging', 'charlotte', 'charm', 'charmed', 'chart', 'chat', 'chatting', 'cheap', 'cheaper', 'cheapest', 'check', 'checked', 'checking', 'child', 'childhood', 'children', 'chocolate', 'choice', 'choices', 'choose', 'choosing', 'choppy', 'chores', 'chose', 'chosen', 'christmas', 'chromebook', 'chromecast', 'circle', 'citizens', 'city', 'clapper', 'clarity', 'classes', 'classic', 'classical', 'classroom', 'clean', 'cleaner', 'cleaning', 'clear', 'clearer', 'clearly', 'click', 'clients', 'clips', 'clock', 'clockhome', 'clocking', 'clocks', 'clone', 'close', 'closed', 'closer', 'clothes', 'cloud', 'clue', 'cm_cr_ryp_prd_ttl_sol_18', 'cnn', 'co', 'coast', 'codes', 'coffee', 'cohesive', 'collection', 'collections', 'collectors', 'college', 'colon', 'color', 'colors', 'com', 'comands', 'combination', 'combine', 'combined', 'come', 'comeletely', 'comes', 'comfort', 'comfortable', 'comforting', 'coming', 'command', 'commanded', 'commands', 'comment', 'comments', 'commercials', 'commodity', 'common', 'communicate', 'communicated', 'communicating', 'communication', 'community', 'commute', 'como', 'compacity', 'compact', 'companion', 'company', 'comparable', 'compare', 'compared', 'compatible', 'competition', 'complacated', 'complain', 'complained', 'complaining', 'complaint', 'complaints', 'complete', 'completed', 'completely', 'complicated', 'compliment', 'compliments', 'components', 'compound', 'computer', 'computers', 'con', 'concept', 'concern', 'concerned', 'concerning', 'concerns', 'concise', 'condition', 'conditioning', 'conditions', 'conectado', 'conferencing', 'confident', 'configure', 'configured', 'conflict', 'confused', 'confuses', 'confusing', 'confusion', 'connect', 'connected', 'connecting', 'connection', 'connectivity', 'connects', 'cons', 'conscious', 'consider', 'considering', 'consistent', 'consistently', 'conspiracy', 'constant', 'constantly', 'constructed', 'consulting', 'consumer', 'contact', 'contacted', 'contacts', 'contains', 'content', 'contents', 'continous', 'continually', 'continue', 'continues', 'continuous', 'continuously', 'control', 'controll', 'controllable', 'controlled', 'controller', 'controlling', 'controls', 'convenience', 'convenient', 'conversation', 'conversations', 'convert', 'convinced', 'cook', 'cooking', 'cool', 'cooler', 'coolest', 'coop', 'coordinator', 'cord', 'cordless', 'cordthank', 'core', 'correct', 'corrected', 'correctly', 'corresponds', 'cortna', 'cost', 'costs', 'cotton', 'couch', 'could', 'couldn', 'counter', 'counters', 'countless', 'countries', 'country', 'county', 'couple', 'course', 'cousin', 'cousins', 'cover', 'covered', 'covers', 'cozi', 'cpr', 'cracked', 'crackle', 'crackling', 'crap', 'crappy', 'crashed', 'crashes', 'crashing', 'crazy', 'creapy', 'create', 'created', 'credited', 'creepy', 'crib', 'crisp', 'critically', 'cropping', 'cross', 'crunchyroll', 'csi', 'cualquier', 'cue', 'cumbersome', 'cups', 'current', 'currently', 'cursed', 'curve', 'custom', 'customer', 'customers', 'customizable', 'customization', 'customize', 'cut', 'cute', 'cutie', 'cutting', 'cycle', 'cycled', 'cycles', 'cylinder', 'cylindercal', 'dad', 'daily', 'damage', 'dance', 'dancing', 'dare', 'dark', 'darn', 'dash', 'data', 'date', 'dated', 'dates', 'daughter', 'day', 'days', 'de', 'deactivate', 'dead', 'deaf', 'deal', 'deals', 'debating', 'dec', 'decent', 'decide', 'decided', 'decides', 'decision', 'deck', 'decor', 'decorated', 'decrease', 'dedicated', 'deep', 'deeper', 'default', 'defeats', 'defective', 'defence', 'defently', 'definately', 'define', 'definitely', 'definition', 'definitively', 'defuser', 'degree', 'degrees', 'del', 'delay', 'delete', 'deliver', 'delivered', 'delivers', 'delivery', 'demand', 'dementia', 'den', 'denon', 'dense', 'dented', 'department', 'dependable', 'dependence', 'depending', 'deployed', 'depreciates', 'depth', 'described', 'description', 'design', 'designed', 'designers', 'desired', 'desk', 'desktop', 'despite', 'detailed', 'details', 'detect', 'determined', 'developed', 'developers', 'development', 'device', 'deviceoverall', 'devices', 'devise', 'devises', 'dhiw', 'diagnostics', 'dial', 'dictionary', 'did', 'didn', 'didnt', 'died', 'dies', 'differ', 'difference', 'differences', 'different', 'differentiate', 'difficult', 'difficulty', 'dig', 'digital', 'digitol', 'digs', 'dim', 'dimat', 'dimension', 'dimmer', 'dimming', 'dims', 'dining', 'dinner', 'dinosaurs', 'direct', 'direction', 'directions', 'directly', 'directtv', 'directv', 'disability', 'disable', 'disabled', 'disagree', 'disappoint', 'disappointed', 'disappointing', 'disappointment', 'disappointments', 'disarm', 'disaster', 'disconcerting', 'disconnect', 'disconnected', 'disconnecting', 'disconnections', 'disconnects', 'discount', 'discounts', 'discourage', 'discover', 'discovered', 'discoveredthat', 'discovering', 'discovery', 'dish', 'dislike', 'dislikes', 'dismiss', 'dismissed', 'display', 'displayed', 'displaying', 'displays', 'disposable', 'dissatisfaction', 'distance', 'distorted', 'distracting', 'distraction', 'disturbing', 'ditch', 'ditched', 'diversity', 'divertido', 'dj', 'do', 'docking', 'doctor', 'documentation', 'dodging', 'does', 'doesn', 'doesnt', 'dog', 'dogs', 'doing', 'dollar', 'dollars', 'domain', 'don', 'done', 'dont', 'door', 'doorbell', 'doors', 'dorm', 'dot', 'dots', 'doubtful', 'down', 'downfall', 'download', 'downloaded', 'downloading', 'downright', 'downside', 'downstairs', 'dp', 'drag', 'draw', 'drawback', 'drawing', 'dressed', 'drive', 'driven', 'drivers', 'drives', 'driving', 'drop', 'dropped', 'dropping', 'drops', 'dryer', 'due', 'dumb', 'dumber', 'dunce', 'dunno', 'during', 'dust', 'duty', 'dying', 'dylan', 'each', 'ear', 'early', 'earn', 'ease', 'easier', 'easily', 'east', 'easy', 'eavesdropping', 'echo', 'echoes', 'echoplus', 'echos', 'eco', 'ecobee3', 'ecoo', 'ecosystem', 'ed', 'edge', 'edit', 'educated', 'educational', 'eeaanh', 'effected', 'effective', 'effects', 'efficiency', 'efficient', 'effort', 'effortless', 'efforts', 'eg', 'eh', 'either', 'el', 'elderly', 'electeonically', 'electrician', 'electricity', 'electronic', 'electronically', 'electronics', 'elegant', 'element', 'eliminate', 'else', 'elsewhere', 'em', 'email', 'embarrassed', 'emergency', 'emoji', 'employees', 'en', 'enable', 'enabled', 'enables', 'encyclopedias', 'end', 'ended', 'endless', 'ends', 'engage', 'engagement', 'engaging', 'engine', 'engineers', 'english', 'enhanced', 'enjoy', 'enjoyable', 'enjoyed', 'enjoying', 'enjoyment', 'enjoys', 'enough', 'enrolment', 'enter', 'entering', 'enters', 'entertained', 'entertaining', 'entertainment', 'entire', 'entirely', 'entry', 'eq', 'equal', 'equalized', 'equalizer', 'equipment', 'equipo', 'error', 'errors', 'es', 'escencia', 'esp', 'espanol', 'español', 'especially', 'essential', 'essentially', 'esta', 'estar', 'este', 'estudio', 'estés', 'etc', 'etekcity', 'ethernet', 'evaluate', 'even', 'evening', 'event', 'events', 'eventually', 'ever', 'every', 'everybody', 'everyday', 'everyone', 'everything', 'everytime', 'everywhere', 'eveyday', 'evolve', 'evrything', 'ex', 'exact', 'exactly', 'example', 'examples', 'exasperation', 'exceeded', 'exceeds', 'excelente', 'excellent', 'excellently', 'except', 'exception', 'exceptionally', 'excessive', 'exchange', 'exchanges', 'exchanging', 'excited', 'excitement', 'excuses', 'exho', 'existence', 'existent', 'existing', 'expanded', 'expanding', 'expect', 'expectation', 'expectations', 'expected', 'expecting', 'expensive', 'experience', 'experienced', 'experiences', 'expert', 'expired', 'expires', 'explanation', 'explicit', 'explore', 'explored', 'exploring', 'extend', 'extended', 'extender', 'extends', 'extension', 'extent', 'external', 'extra', 'extras', 'extremely', 'extrimelly', 'eye', 'eyes', 'fabric', 'fabulous', 'face', 'facebook', 'faces', 'facetime', 'fact', 'factor', 'factory', 'facts', 'fail', 'failed', 'failing', 'fails', 'fair', 'fairly', 'fairness', 'fall', 'falling', 'falls', 'false', 'familiar', 'family', 'fan', 'fanatic', 'fans', 'fantastic', 'far', 'farther', 'fascinating', 'fashioned', 'fast', 'faster', 'fat', 'father', 'fathers', 'fault', 'faulty', 'favorite', 'favorites', 'featues', 'feature', 'featured', 'features', 'fee', 'feed', 'feedback', 'feeds', 'feee', 'feel', 'feeling', 'feels', 'fees', 'feet', 'fell', 'felt', 'fencing', 'few', 'fi', 'fiances', 'fidelity', 'figure', 'figured', 'figuring', 'fill', 'filled', 'filling', 'fills', 'final', 'finally', 'find', 'finding', 'finds', 'fine', 'fingertips', 'finicky', 'finish', 'fios', 'fire', 'firestick', 'firmare', 'firmware', 'first', 'fit', 'fits', 'five', 'fix', 'fixed', 'fixes', 'fixing', 'fixture', 'fixtures', 'flash', 'flashes', 'flat', 'flaw', 'flawless', 'flawlessly', 'flaws', 'fledged', 'flexibility', 'flexible', 'flickering', 'floating', 'floor', 'floored', 'fm', 'folks', 'follow', 'followed', 'font', 'foot', 'football', 'footprint', 'for', 'force', 'forces', 'forecast', 'forecasts', 'forever', 'forget', 'forgot', 'forgotten', 'forjust', 'form', 'forth', 'fortunately', 'forums', 'forward', 'found', 'four', 'fourth', 'free', 'freeze', 'freezes', 'frequently', 'fri', 'friday', 'friend', 'friendly', 'friends', 'from', 'front', 'frustrated', 'frustrating', 'frustration', 'full', 'fuller', 'fully', 'fumble', 'fun', 'funciona', 'funcionamiento', 'funciones', 'function', 'functionalities', 'functionality', 'functions', 'funny', 'further', 'furthermore', 'fussing', 'fussy', 'future', 'fw', 'gadget', 'gadgets', 'gain', 'galaxy', 'game', 'games', 'gameshow', 'gaming', 'gap', 'garage', 'garbage', 'gateway', 'gather', 'gatherings', 'gave', 'gazebo', 'gb', 'ge', 'geared', 'geek', 'geeks', 'gen', 'gen2', 'gender', 'general', 'generally', 'generation', 'genial', 'genre', 'genres', 'geo', 'get', 'gets', 'getting', 'gf', 'ghost', 'gift', 'gifts', 'girlfriend', 'girls', 'give', 'given', 'gives', 'giving', 'gizmo', 'glad', 'glaring', 'glasses', 'glitch', 'glitches', 'glitching', 'glorified', 'glow', 'go', 'god', 'godsend', 'goes', 'going', 'golden', 'gone', 'goo', 'good', 'goodies', 'goodmorning', 'goodness', 'google', 'googled', 'got', 'gotten', 'government', 'grab', 'grace', 'grand', 'grandaughter', 'grandchildren', 'granddaughter', 'grandfather', 'grandkids', 'grandmother', 'grandparent', 'grandparents', 'grands', 'grandson', 'grandsons', 'granite', 'granted', 'graphics', 'gratamente', 'greade', 'great', 'greater', 'greatest', 'greatly', 'green', 'greeting', 'grip', 'gripe', 'grocery', 'groggy', 'ground', 'group', 'groups', 'growing', 'grownups', 'grows', 'guarantee', 'guaranteeing', 'guard', 'guess', 'guest', 'guide', 'guilty', 'guy', 'guys', 'habit', 'habla', 'had', 'hadn', 'haha', 'hahaawesome', 'hahahaha', 'hairs', 'hal', 'half', 'hallway', 'hand', 'handle', 'handled', 'handles', 'hands', 'handy', 'hang', 'happen', 'happened', 'happening', 'happens', 'happier', 'happy', 'hard', 'hardcore', 'harder', 'hardly', 'harmony', 'harvard', 'has', 'hasn', 'hassel', 'hassle', 'hate', 'hated', 'hates', 'hauler', 'have', 'haven', 'havent', 'having', 'haywire', 'hbo', 'hcfe', 'hd', 'hd8', 'hdm1', 'hdmi', 'he', 'headline', 'headphone', 'headphones', 'heads', 'healing', 'hear', 'heard', 'hearing', 'hears', 'heart', 'heaven', 'heavy', 'heck', 'hectic', 'held', 'helful', 'hell', 'help', 'helped', 'helper', 'helpful', 'helping', 'helps', 'hence', 'her', 'here', 'hers', 'herself', 'hes', 'hesitant', 'hesitate', 'hesitated', 'hey', 'hi', 'hiccups', 'hide', 'high', 'higher', 'highest', 'highly', 'him', 'himself', 'hints', 'hire', 'hired', 'hiring', 'his', 'history', 'hit', 'hmm', 'hmmm', 'hmmmm', 'hold', 'holder', 'holding', 'hole', 'holiday', 'holy', 'home', 'homes', 'homescreen', 'homework', 'honest', 'honestly', 'hong', 'hook', 'hooked', 'hope', 'hoped', 'hopefully', 'hoping', 'hora', 'horrible', 'horse', 'hospital', 'hospitals', 'hosting', 'hot', 'hotel', 'hour', 'hours', 'house', 'household', 'houses', 'how', 'however', 'hr', 'https', 'hub', 'hubbed', 'hubby', 'hubs', 'hue', 'huele', 'huge', 'hulu', 'human', 'humour', 'hundred', 'hundreds', 'husband', 'hut', 'hvac', 'hype', 'id', 'idea', 'ideal', 'if', 'ifs', 'ight', 'ignored', 'ignoring', 'iheart', 'iheartradio', 'ihome', 'ii', 'illustrated', 'im', 'image', 'images', 'imagination', 'imagine', 'imagined', 'imhave', 'immediately', 'impaired', 'impede', 'imperfection', 'implementing', 'important', 'importantly', 'impressed', 'impressive', 'improve', 'improved', 'improvement', 'improvements', 'improving', 'impulse', 'imrproved', 'imusic', 'in', 'inability', 'inactivity', 'include', 'included', 'includes', 'including', 'inclusive', 'income', 'inconvenience', 'inconvenient', 'incorporated', 'increase', 'increasing', 'incredible', 'incredibly', 'india', 'indicated', 'indicator', 'indispensable', 'individual', 'individually', 'indoor', 'indundated', 'industry', 'inexpensive', 'inexperience', 'infact', 'inferior', 'info', 'información', 'information', 'informative', 'informed', 'infotainment', 'initial', 'initially', 'initiate', 'inline', 'innovative', 'input', 'insanely', 'insanity', 'insert', 'inside', 'insist', 'inspired', 'install', 'installation', 'installed', 'installing', 'installs', 'instant', 'instantaneous', 'instantly', 'instead', 'instruction', 'instructions', 'integrate', 'integrated', 'integrates', 'integrating', 'integration', 'intelagence', 'inteligente', 'intelligent', 'intend', 'intended', 'intention', 'interact', 'interacting', 'interaction', 'interactions', 'interactive', 'intercom', 'intercoms', 'interest', 'interested', 'interesting', 'interface', 'interfacing', 'interference', 'interferes', 'intermittent', 'intermittently', 'internal', 'international', 'internet', 'interpret', 'interrogated', 'interrupt', 'interruption', 'intimidating', 'into', 'introduce', 'introducing', 'introduction', 'intrusive', 'intuitive', 'invasion', 'invasions', 'invasive', 'invention', 'invest', 'invested', 'investing', 'investment', 'inviting', 'involved', 'involves', 'iot', 'iove', 'ipad', 'ipads', 'ipdates', 'iphone', 'irritated', 'irritating', 'is', 'ise', 'ish', 'island', 'isn', 'isnt', 'isolated', 'issue', 'issues', 'isue', 'it', 'ita', 'italian', 'italy', 'item', 'items', 'its', 'itself', 'itunes', 'iy', 'jack', 'jacuzzi', 'jamming', 'jams', 'jaws', 'jazz', 'jeapordy', 'jeff', 'jeopardy', 'jetsons', 'jimmy', 'job', 'johnny', 'join', 'joke', 'joked', 'jokes', 'journey', 'joy', 'jump', 'jumped', 'jumping', 'june', 'junk', 'just', 'karen', 'kasa', 'keen', 'keep', 'keeper', 'keeping', 'keeps', 'kept', 'key', 'keyboard', 'kick', 'kicking', 'kid', 'kids', 'killer', 'kind', 'kinda', 'kindle', 'kinds', 'king', 'kitchen', 'knee', 'knew', 'knob', 'knock', 'knocked', 'know', 'knowing', 'knowledgable', 'knowledge', 'knowledgeable', 'known', 'knows', 'kodi', 'kong', 'korea', 'kwikset', 'la', 'labeled', 'lack', 'lacking', 'lacks', 'ladies', 'lady', 'lag', 'lagging', 'lags', 'lame', 'lamp', 'lamps', 'land', 'language', 'lapsed', 'laptop', 'large', 'larger', 'las', 'last', 'lastly', 'late', 'lately', 'later', 'lauded', 'laugh', 'laughs', 'laughter', 'laundry', 'law', 'layer', 'laying', 'laziness', 'lazy', 'lcd', 'leaning', 'learn', 'learned', 'learnimg', 'learning', 'learns', 'leary', 'least', 'leave', 'leaves', 'leaving', 'led', 'left', 'leg', 'legally', 'leisure', 'length', 'less', 'lesson', 'let', 'lets', 'level', 'levels', 'lg', 'libraries', 'library', 'life', 'lifetime', 'lifht', 'light', 'lightbulb', 'lightening', 'lighting', 'lightning', 'lights', 'like', 'liked', 'likely', 'likes', 'liking', 'lil', 'lilttle', 'limitations', 'limited', 'line', 'lines', 'link', 'linked', 'linking', 'links', 'list', 'listen', 'listened', 'listening', 'listens', 'lists', 'lit', 'literally', 'literate', 'little', 'live', 'lived', 'lives', 'living', 'livingroom', 'll', 'llama', 'llegó', 'lm', 'lo', 'load', 'loaded', 'loads', 'local', 'locate', 'located', 'location', 'locations', 'lock', 'locked', 'locks', 'logitech', 'logo', 'logra', 'lol', 'lolol', 'lonely', 'long', 'longer', 'longevity', 'look', 'looked', 'looking', 'looks', 'looooooove', 'loose', 'looses', 'loosing', 'lose', 'loses', 'losing', 'loss', 'lost', 'lot', 'lots', 'loud', 'louder', 'louis', 'lov', 'love', 'loved', 'lovee', 'lover', 'loves', 'loving', 'low', 'lower', 'luck', 'luckily', 'lucky', 'lullaby', 'lurking', 'luv', 'lve', 'lyric', 'lyrical', 'lyrics', 'mac', 'machine', 'machines', 'maddening', 'made', 'madlibs', 'magically', 'mailed', 'main', 'mainly', 'mainstream', 'maintain', 'maintaining', 'majel', 'majes', 'major', 'make', 'makes', 'making', 'makings', 'male', 'malone', 'mama', 'man', 'manage', 'management', 'mandatory', 'maneuver', 'manners', 'manual', 'manually', 'manuals', 'manufacturers', 'many', 'marginal', 'mark', 'marked', 'market', 'marketing', 'marvelous', 'massive', 'match', 'matched', 'material', 'matter', 'maximize', 'may', 'maybe', 'mb', 'me', 'mean', 'meaningful', 'means', 'meant', 'media', 'medical', 'medications', 'mediocre', 'meditation', 'medium', 'meh', 'member', 'members', 'membership', 'memory', 'mention', 'mentioned', 'menu', 'mere', 'message', 'messages', 'messaging', 'messed', 'met', 'metro', 'mexico', 'mi', 'miami', 'mic', 'microphone', 'microphones', 'mics', 'mid', 'middle', 'mids', 'might', 'miles', 'million', 'mimic', 'mind', 'mindset', 'mine', 'mini', 'minimal', 'minimum', 'minor', 'minorly', 'mins', 'mint', 'minus', 'minute', 'minutes', 'mirroring', 'misled', 'misplace', 'miss', 'missed', 'missing', 'mistakes', 'misunderstands', 'mixed', 'moana', 'mobile', 'mobility', 'mode', 'model', 'models', 'modern', 'mom', 'moment', 'moms', 'mon', 'money', 'monitor', 'month', 'monthly', 'months', 'mood', 'more', 'moreover', 'morning', 'most', 'mostly', 'mother', 'motivation', 'motown', 'mount', 'mounted', 'move', 'moved', 'movie', 'movies', 'moving', 'mu', 'much', 'muffled', 'multi', 'multiple', 'music', 'must', 'mute', 'muy', 'my', 'mybedroom', 'myself', 'múltiples', 'na', 'name', 'named', 'names', 'nana', 'nanny', 'native', 'natural', 'nature', 'navigate', 'navigating', 'navigation', 'naw', 'nbc', 'nbsp', 'nc', 'nd', 'ne', 'near', 'nearly', 'neat', 'necessity', 'need', 'needed', 'needing', 'needs', 'negative', 'neighbors', 'neither', 'nephews', 'nervana', 'nervous', 'nest', 'net', 'netflix', 'network', 'never', 'new', 'newer', 'newest', 'news', 'newsflash', 'nexia', 'next', 'nfl', 'ni', 'nice', 'nicely', 'nicer', 'niece', 'nigh', 'night', 'nightmare', 'nights', 'nightstand', 'nil', 'nit', 'nite', 'nj', 'no', 'nobody', 'nois', 'noise', 'non', 'none', 'nonsense', 'nope', 'nor', 'norm', 'normal', 'north', 'nos', 'not', 'note', 'nothing', 'notice', 'noticeable', 'noticed', 'notification', 'notifications', 'notifies', 'novelty', 'now', 'nowhere', 'npr', 'nrw', 'nsa', 'nudged', 'numb', 'number', 'numbers', 'numerous', 'nurses', 'nuts', 'ny', 'obsessed', 'obtrusive', 'obvious', 'occasion', 'occasional', 'occasionally', 'ocean', 'odd', 'odds', 'of', 'off', 'offer', 'offered', 'offers', 'office', 'officially', 'offing', 'often', 'oh', 'ok', 'okay', 'old', 'older', 'oldest', 'olor', 'omg', 'on', 'once', 'onceproblem', 'one', 'ones', 'onetime', 'online', 'only', 'onme', 'onto', 'ontrac', 'oops', 'open', 'opened', 'opening', 'opens', 'opera', 'operate', 'operation', 'operations', 'operator', 'opinion', 'opportunity', 'opt', 'optical', 'optimum', 'option', 'optional', 'options', 'or', 'orange', 'orchestra', 'order', 'ordered', 'ordering', 'orders', 'organization', 'organized', 'orientation', 'oriented', 'original', 'originale', 'originally', 'other', 'others', 'otherwise', 'our', 'ours', 'ourselves', 'out', 'outdoor', 'outdoors', 'outlet', 'outlets', 'output', 'outrageous', 'outside', 'outsmart', 'outstanding', 'oven', 'over', 'overa', 'overall', 'overcoming', 'overheating', 'overpriced', 'override', 'overtime', 'overview', 'overwhelming', 'owe', 'owlhead', 'own', 'owned', 'owner', 'owners', 'ownership', 'owning', 'package', 'packaged', 'packages', 'packaging', 'packing', 'page', 'pages', 'paid', 'pain', 'pair', 'paired', 'pairing', 'pamphlet', 'pandora', 'pants', 'paper', 'par', 'paranoid', 'pare', 'parents', 'park', 'paroduct', 'part', 'participating', 'particular', 'particularly', 'parties', 'partner', 'parts', 'party', 'pass', 'password', 'past', 'patch', 'patience', 'patient', 'patio', 'pattern', 'pause', 'pauses', 'pay', 'payed', 'paying', 'pc', 'películas', 'pen', 'pencil', 'penny', 'people', 'pep', 'per', 'perdió', 'perfect', 'perfectly', 'perfecto', 'perform', 'performance', 'performed', 'performing', 'performs', 'perhaps', 'period', 'perk', 'permanently', 'persist', 'person', 'personal', 'personality', 'personalization', 'personalized', 'personally', 'persuasion', 'pets', 'phase', 'phenomenal', 'philip', 'philips', 'philipshue', 'phillip', 'phillips', 'philly', 'phone', 'phones', 'phonetically', 'photo', 'photographs', 'photos', 'phrase', 'pia', 'pick', 'picked', 'picking', 'picks', 'picky', 'pics', 'picture', 'pictures', 'piece', 'pin', 'pivoting', 'pixelated', 'pizza', 'place', 'placed', 'placement', 'places', 'placing', 'plain', 'plan', 'plane', 'planning', 'plans', 'platform', 'platforms', 'play', 'played', 'player', 'playing', 'playlist', 'playlists', 'plays', 'pleasantly', 'please', 'pleased', 'pleasedsimple', 'pleasure', 'plenty', 'plug', 'plugged', 'plugins', 'plugs', 'plus', 'pluto', 'pod', 'podcast', 'podcasts', 'point', 'pointed', 'pointless', 'politics', 'pool', 'poop', 'poor', 'pop', 'porch', 'port', 'portability', 'portable', 'portion', 'posed', 'position', 'positive', 'positives', 'possibilities', 'possible', 'possibly', 'post', 'poster', 'potential', 'pound', 'power', 'powercord', 'powerful', 'practical', 'practically', 'practicalthan', 'pray', 'pre', 'preciously', 'precise', 'prefer', 'preferences', 'preferred', 'premium', 'prepare', 'preparing', 'present', 'preset', 'press', 'presumably', 'prettier', 'pretty', 'prevent', 'prevents', 'preview', 'previous', 'previously', 'price', 'priced', 'prices', 'pricey', 'pricing', 'primarily', 'primary', 'prime', 'primeday', 'print', 'prior', 'privacy', 'prize', 'pro', 'probably', 'problem', 'problems', 'procedure', 'process', 'produc', 'product', 'producto', 'products', 'productsand', 'profiles', 'program', 'programing', 'programmed', 'programming', 'programs', 'project', 'projection', 'projects', 'promised', 'promoting', 'promotion', 'promp', 'prompt', 'prompts', 'proper', 'properly', 'props', 'pros', 'protected', 'protection', 'protocol', 'prove', 'proved', 'provee', 'provide', 'provided', 'provider', 'provides', 'providing', 'psychological', 'pueden', 'pull', 'pulling', 'pulsate', 'pulsed', 'punch', 'puny', 'pup', 'pur', 'purchase', 'purchased', 'purchaser', 'purchases', 'purchasing', 'pure', 'purely', 'purpose', 'purposes', 'push', 'pushed', 'put', 'puts', 'putting', 'puzzled', 'quality', 'qualty', 'que', 'quedó', 'queries', 'question', 'questionable', 'questions', 'quick', 'quicker', 'quickly', 'quiet', 'quit', 'quite', 'quiz', 'quot', 'quote', 'qvc', 'radio', 'rain', 'rainbow', 'raised', 'rambled', 'ran', 'random', 'randomly', 'range', 'ranger', 'rapidez', 'rare', 'rarely', 'rarity', 'rate', 'rather', 'rating', 'rattle', 'rattling', 'rcieved', 're', 'reach', 'reached', 'reaching', 'reactive', 'read', 'reader', 'reading', 'reads', 'ready', 'real', 'realizando', 'realize', 'realized', 'realizing', 'really', 'reason', 'reasonable', 'reasons', 'reauthorize', 'reboot', 'rebooted', 'rebooting', 'reboots', 'reccomend', 'receivded', 'receive', 'received', 'receiver', 'receivers', 'receiving', 'recent', 'recently', 'reception', 'rechargeable', 'recharged', 'recipe', 'recipes', 'recipient', 'recognition', 'recognize', 'recognizes', 'recomendable', 'recommend', 'recommended', 'recommending', 'reconditioned', 'reconfigure', 'reconnect', 'reconnected', 'reconnecting', 'record', 'recorded', 'recording', 'recordings', 'rectangular', 'recurring', 'red', 'reduced', 'redundant', 'ref', 'refer', 'reference', 'references', 'referred', 'refers', 'refined', 'refund', 'refunds', 'refurb', 'refurbish', 'refurbished', 'refurbishedthought', 'refurbishing', 'refurbs', 'regard', 'regardless', 'regional', 'register', 'registered', 'regret', 'regrets', 'regular', 'regularly', 'reinstall', 'related', 'relatively', 'relaxing', 'relay', 'release', 'released', 'reliable', 'relief', 'rely', 'remaining', 'remains', 'remedial', 'remember', 'remembering', 'remind', 'reminded', 'reminder', 'reminders', 'reminding', 'reminds', 'remorse', 'remote', 'rename', 'rent', 'renting', 'reoccurring', 'reorder', 'rep', 'repair', 'repairs', 'repeat', 'repeated', 'repeating', 'repeats', 'repertoire', 'replace', 'replaced', 'replacement', 'replaces', 'replacing', 'replied', 'replying', 'report', 'reported', 'reports', 'reportsalarm', 'reputation', 'request', 'requesting', 'requests', 'require', 'required', 'requires', 'research', 'researched', 'researching', 'resembling', 'resemption', 'reset', 'resetting', 'resist', 'resistant', 'resolution', 'resolved', 'resolves', 'respond', 'responding', 'responds', 'response', 'responses', 'responsive', 'responsiveness', 'respuesta', 'rest', 'restart', 'restrictions', 'restrictive', 'result', 'results', 'resume', 'retired', 'return', 'returned', 'returnef', 'returning', 'review', 'reviewing', 'reviews', 'revise', 'rewards', 'rid', 'rides', 'ridiculous', 'ridiculously', 'right', 'ring', 'rings', 'rivers', 'road', 'rock', 'rocks', 'roku', 'roll', 'room', 'roomba', 'rooms', 'rotate', 'rotates', 'rotation', 'rotations', 'rough', 'round', 'route', 'router', 'routine', 'routinely', 'routines', 'row', 'rub', 'rubber', 'run', 'running', 'runs', 's8', 's9', 'sad', 'sadly', 'safe', 'said', 'sale', 'sales', 'salsa', 'same', 'samsung', 'sang', 'sanity', 'satellite', 'satisfied', 'satisified', 'save', 'saved', 'saving', 'savvy', 'savy', 'saw', 'say', 'saying', 'says', 'scared', 'scenes', 'scent', 'schedule', 'scheduled', 'schedules', 'scheduling', 'school', 'science', 'scooped', 'scores', 'scottish', 'scoured', 'scratch', 'scratched', 'screamig', 'screaming', 'screen', 'screenless', 'screens', 'screenselect', 'screw', 'script', 'scroll', 'scrolling', 'scrolls', 'se', 'sealed', 'seamless', 'seamlessly', 'seams', 'search', 'searches', 'searching', 'season', 'second', 'seconds', 'secret', 'secretary', 'section', 'security', 'see', 'seeing', 'seem', 'seemed', 'seems', 'seen', 'seldom', 'select', 'selection', 'selections', 'self', 'selfies', 'sell', 'selling', 'semana', 'semi', 'send', 'sending', 'sends', 'senior', 'sense', 'sensitive', 'sensitivity', 'sent', 'sentence', 'separate', 'separately', 'seprately', 'series', 'serious', 'seriously', 'serius', 'serve', 'served', 'service', 'services', 'set', 'sets', 'setting', 'settings', 'settingshome', 'settins', 'settle', 'setup', 'setups', 'sever', 'several', 'sewing', 'sh', 'shaking', 'shape', 'sharing', 'sharp', 'she', 'shell', 'shelled', 'shifting', 'shine', 'shining', 'ship', 'shipment', 'shipped', 'shipping', 'shocked', 'shooting', 'shop', 'shopping', 'short', 'shortcomings', 'shorted', 'shorter', 'shortly', 'should', 'shouldn', 'shout', 'show', 'shower', 'showering', 'showing', 'showman', 'shown', 'shows', 'showtime', 'shuffle', 'shut', 'shuts', 'shutting', 'sibling', 'side', 'sigh', 'sight', 'sign', 'significant', 'silly', 'silver', 'similar', 'simple', 'simpler', 'simplicity', 'simplified', 'simplify', 'simply', 'simultaneously', 'sin', 'since', 'sincerely', 'sing', 'singing', 'single', 'singley', 'sink', 'sinqued', 'siri', 'sirius', 'sirrius', 'sister', 'sit', 'site', 'sits', 'sitting', 'situations', 'six', 'size', 'sized', 'skeptical', 'skill', 'skills', 'skips', 'skype', 'sleek', 'sleep', 'sleeper', 'sleeping', 'sleeps', 'sleepy', 'sliced', 'slide', 'slideshow', 'slight', 'slightly', 'sling', 'slow', 'slowly', 'sm', 'small', 'smaller', 'smart', 'smartbon', 'smarter', 'smarthome', 'smartphone', 'smartthing', 'smartthings', 'smells', 'smiths', 'smooth', 'smoothly', 'snap', 'snarls', 'sneaky', 'snell', 'snooze', 'snoozed', 'snoozes', 'so', 'soaked', 'soaking', 'soccer', 'social', 'socket', 'sofa', 'soft', 'softly', 'software', 'sold', 'solely', 'solid', 'solo', 'solución', 'solution', 'solved', 'solves', 'some', 'somebody', 'somehow', 'someone', 'something', 'sometime', 'sometimes', 'somewhat', 'son', 'song', 'songs', 'sonos', 'sons', 'sony', 'soon', 'sooner', 'sooo', 'sooooo', 'sooooooo', 'sopt', 'sore', 'sorely', 'sorprendió', 'sorry', 'sort', 'sound', 'soundbar', 'sounded', 'sounding', 'soundlink', 'sounds', 'soundtouch', 'source', 'sources', 'southern', 'spa', 'space', 'spaces', 'spacing', 'spam', 'span', 'spanish', 'spanking', 'spark', 'sparks', 'speak', 'speaker', 'speakers', 'speaking', 'speaks', 'special', 'specially', 'specific', 'specifically', 'specifily', 'specify', 'specifying', 'specs', 'spectacular', 'speech', 'speed', 'speeds', 'speedy', 'spell', 'spelling', 'spend', 'spending', 'spent', 'spiel', 'spilled', 'spin', 'spins', 'split', 'spoiled', 'spoke', 'spoken', 'sport', 'sports', 'spot', 'spotify', 'spotlight', 'spots', 'spouse', 'sprinkler', 'sprint', 'spur', 'spying', 'square', 'squirms', 'sry', 'ssdi', 'st', 'staff', 'stage', 'staging', 'stairs', 'stand', 'standalone', 'standard', 'standards', 'standing', 'stands', 'star', 'stark', 'stars', 'start', 'started', 'starting', 'starts', 'stat', 'state', 'statement', 'states', 'station', 'stationary', 'stationed', 'stations', 'stay', 'stayed', 'staying', 'steaming', 'steep', 'stellar', 'step', 'steps', 'stereo', 'stick', 'sticks', 'still', 'stimulus', 'stinks', 'stoled', 'stop', 'stopped', 'stops', 'storage', 'store', 'stories', 'storm', 'story', 'stove', 'straight', 'straightforward', 'strange', 'stream', 'streaming', 'streamline', 'strictly', 'string', 'strips', 'strong', 'strongly', 'structure', 'struggle', 'stubborn', 'stuck', 'students', 'stuff', 'stump', 'stupid', 'sturdy', 'style', 'stylish', 'su', 'sub', 'subject', 'subpar', 'subscriber', 'subscribing', 'subscription', 'subscriptiondoes', 'subscriptions', 'subsequently', 'substitute', 'success', 'successful', 'successfully', 'successor', 'such', 'suck', 'sucks', 'suffer', 'sufficient', 'suffolk', 'suggest', 'suggested', 'suggesting', 'suggestions', 'suggests', 'suitable', 'summoning', 'sunroom', 'supberb', 'super', 'superb', 'superior', 'supplied', 'supplying', 'support', 'supported', 'supporting', 'supports', 'suppose', 'supposed', 'sure', 'surely', 'surface', 'surprise', 'surprised', 'surprising', 'surprisingly', 'surround', 'survived', 'sweet', 'swell', 'swipe', 'swiping', 'switch', 'switched', 'switches', 'switching', 'sync', 'synced', 'synching', 'syncing', 'system', 'systems', 'table', 'tablet', 'tablets', 'tad', 'tailor', 'take', 'taken', 'takes', 'taking', 'tales', 'talk', 'talked', 'talking', 'talks', 'tall', 'taller', 'tap', 'tape', 'taping', 'tapped', 'tardis', 'tasha', 'task', 'tasks', 'teacher', 'teams', 'tear', 'tec', 'tech', 'techie', 'technical', 'technically', 'technicians', 'techno', 'technologically', 'technology', 'techy', 'teenagers', 'teeth', 'tekkie', 'telephone', 'television', 'tell', 'telling', 'tells', 'temp', 'temperature', 'temps', 'tempting', 'ten', 'tend', 'tends', 'terminology', 'terrible', 'terrific', 'test', 'tested', 'testing', 'texas', 'text', 'texts', 'tg', 'tge', 'than', 'thank', 'thanks', 'that', 'thats', 'the', 'theater', 'theecho', 'their', 'theirs', 'them', 'themes', 'themselves', 'then', 'theories', 'there', 'therefore', 'thermostat', 'these', 'thestand', 'thete', 'they', 'thick', 'thing', 'things', 'think', 'thinking', 'third', 'this', 'thongs', 'thorough', 'thoroughly', 'those', 'thou', 'though', 'thought', 'thoughts', 'thousands', 'three', 'thrilled', 'through', 'throughout', 'throw', 'thrown', 'thru', 'thu', 'thumb', 'thumbs', 'thunderstorm', 'thursday', 'ti', 'tickled', 'tiempo', 'tiene', 'ties', 'til', 'till', 'time', 'timer', 'timers', 'times', 'timing', 'tin', 'ting', 'tinker', 'tinkering', 'tinny', 'tiny', 'tipping', 'tips', 'tired', 'title', 'tivo', 'to', 'toda', 'today', 'toddler', 'together', 'toilet', 'told', 'tomorrow', 'tomy', 'ton', 'tones', 'tons', 'tony', 'too', 'took', 'tool', 'tools', 'tooth', 'top', 'topic', 'tosca', 'total', 'totallly', 'totally', 'tou', 'touch', 'touching', 'touted', 'toward', 'towards', 'tower', 'town', 'toy', 'tp', 'track', 'traditional', 'traffic', 'trailer', 'trailers', 'trained', 'trainees', 'training', 'transferring', 'travel', 'traveling', 'travelling', 'través', 'treadmill', 'treat', 'treble', 'trek', 'tremendous', 'trending', 'trial', 'tricks', 'tricky', 'tried', 'tries', 'trigger', 'trip', 'trivia', 'trouble', 'troubleshooting', 'troublesome', 'troubling', 'true', 'truly', 'trust', 'try', 'trying', 'tube', 'tubi', 'tune', 'tunein', 'tunes', 'turn', 'turned', 'turning', 'turns', 'tv', 'tvs', 'tweeter', 'tweeters', 'twice', 'twist', 'twitter', 'two', 'ty', 'type', 'typed', 'types', 'typical', 'typically', 'typing', 'títulos', 'udefulness', 'ugly', 'uhyour', 'ummm', 'un', 'unable', 'unacceptable', 'unavailable', 'unbelievable', 'uncle', 'under', 'underestimated', 'understand', 'understanding', 'understands', 'understood', 'unexpected', 'unfortunately', 'unhappy', 'unhelpful', 'unico', 'unimportant', 'uninstall', 'unique', 'unit', 'units', 'universal', 'unless', 'unlike', 'unlimited', 'unlocking', 'unnannounced', 'unnecessary', 'unobtrusive', 'unplug', 'unplugged', 'unresponsive', 'unsettling', 'untapped', 'until', 'unusable', 'unused', 'unwitty', 'unwrapped', 'up', 'upcoming', 'update', 'updated', 'updates', 'updating', 'upgrade', 'upgraded', 'upgrades', 'upgrading', 'upload', 'upon', 'upset', 'upsetting', 'upstairs', 'urge', 'us', 'usa', 'usable', 'usage', 'usb', 'usde', 'use', 'used', 'useful', 'useless', 'user', 'users', 'uses', 'using', 'usual', 'usually', 'utility', 'utilización', 'utilize', 'utilizing', 'vacation', 'vacations', 'vacuum', 'value', 'variant', 'variety', 'various', 'vast', 've', 'vehicle', 'verbal', 'verbalize', 'verbally', 'versa', 'versatile', 'versatility', 'verse', 'verses', 'version', 'versions', 'versus', 'very', 'vetted', 'vez', 'via', 'vibrating', 'vice', 'viceo', 'video', 'videos', 'view', 'viewed', 'viewing', 'views', 'vintage', 'viola', 'virtual', 'virtually', 'visa', 'visible', 'vision', 'visiting', 'visits', 'visual', 'visuals', 'vlan', 'voice', 'voices', 'voiceview', 'voila', 'voltage', 'voltson', 'volume', 'vs', 'vudu', 'wait', 'waited', 'waiting', 'waits', 'wake', 'wakes', 'waking', 'walk', 'walked', 'walking', 'walks', 'wall', 'walls', 'want', 'wanted', 'wanting', 'warehouse', 'warning', 'warns', 'warranty', 'was', 'wasconcerned', 'wasn', 'wasnt', 'waste', 'wasted', 'watch', 'watched', 'watching', 'water', 'wattage', 'wave', 'way', 'ways', 'we', 'weak', 'wealth', 'wear', 'weary', 'weather', 'web', 'website', 'websites', 'wedding', 'week', 'weekday', 'weekdays', 'weekend', 'weekly', 'weeks', 'weight', 'weird', 'welcome', 'well', 'wellfour', 'went', 'were', 'weren', 'what', 'whatever', 'whats', 'whatsoever', 'whe', 'when', 'whenever', 'where', 'wherever', 'whether', 'which', 'while', 'whisper', 'whistles', 'white', 'who', 'whole', 'whom', 'whos', 'whose', 'why', 'wi', 'wide', 'widespread', 'wife', 'wifi', 'wikipedia', 'will', 'willing', 'wind', 'window', 'winds', 'wink', 'wireless', 'wish', 'wished', 'wishing', 'with', 'within', 'without', 'woke', 'woken', 'won', 'wonder', 'wonderful', 'wonderfully', 'wonders', 'wont', 'woofer', 'woofers', 'woohoo', 'word', 'words', 'work', 'workarounds', 'worked', 'worker', 'working', 'workout', 'workreat', 'works', 'world', 'worried', 'worry', 'worse', 'worst', 'worth', 'worthless', 'worthy', 'would', 'wouldn', 'wow', 'writes', 'writing', 'wrong', 'www', 'xbox', 'xfinity', 'xm', 'yale', 'yard', 'yards', 'yeah', 'year', 'years', 'yell', 'yelling', 'yellow', 'yep', 'yes', 'yesterday', 'yet', 'yhe', 'york', 'you', 'young', 'younger', 'youngest', 'your', 'yourself', 'youtube', 'yr', 'yrs', 'yup', 'zero', 'zigbee', 'zonked', 'zzzz', 'zzzzzzz', 'útil']\n",
      "{'love': 2150, 'my': 2320, 'echo': 1160, 'loved': 2151, 'it': 1933, 'sometimes': 3289, 'while': 3945, 'playing': 2640, 'game': 1504, 'you': 4028, 'can': 588, 'answer': 256, 'question': 2794, 'correctly': 853, 'but': 559, 'alexa': 196, 'says': 3059, 'got': 1567, 'wrong': 4008, 'and': 250, 'answers': 259, 'the': 3578, 'same': 3044, 'as': 314, 'like': 2076, 'being': 435, 'able': 79, 'to': 3646, 'turn': 3721, 'lights': 2075, 'on': 2445, 'off': 2429, 'away': 367, 'from': 1476, 'home': 1722, 'have': 1652, 'had': 1616, 'lot': 2144, 'of': 2428, 'fun': 1485, 'with': 3971, 'this': 3601, 'thing': 3596, 'yr': 4035, 'old': 2440, 'learns': 2046, 'about': 81, 'dinosaurs': 1039, 'control': 827, 'play': 2637, 'games': 1505, 'categories': 619, 'has': 1644, 'nice': 2370, 'sound': 3308, 'when': 3939, 'music': 2316, 'well': 3929, 'received': 2854, 'gift': 1536, 'needed': 2347, 'another': 255, 'bluetooth': 483, 'or': 2474, 'something': 3287, 'easily': 1156, 'accessible': 91, 'found': 1464, 'smart': 3247, 'speaker': 3329, 'wait': 3876, 'see': 3101, 'what': 3934, 'else': 1196, 'do': 1092, 'without': 3973, 'having': 1655, 'cellphone': 630, 'cannot': 594, 'use': 3807, 'many': 2201, 'her': 1688, 'features': 1378, 'an': 248, 'ipad': 1917, 'not': 2396, 'that': 3576, 'any': 264, 'is': 1923, 'great': 1589, 'alarm': 189, 'if': 1771, 'almost': 211, 'deaf': 940, 'hear': 1669, 'in': 1805, 'bedroom': 422, 'out': 2494, 'living': 2104, 'room': 3015, 'so': 3265, 'reason': 2843, 'enough': 1226, 'keep': 1971, 'ask': 317, 'random': 2813, 'questions': 2796, 'response': 2980, 'she': 3154, 'does': 1097, 'seem': 3103, 'be': 409, 'very': 3842, 'smartbon': 3248, 'politics': 2662, 'yet': 4025, 'think': 3598, '5th': 51, 'one': 2448, 've': 3829, 'purchased': 2775, 'working': 3991, 'getting': 1533, 'every': 1268, 'house': 1745, 'really': 2842, 'they': 3594, 'offer': 2430, 'specifily': 3337, 'all': 204, 'echos': 1163, 'controlling': 832, 'throughout': 3614, 'looks': 2134, 'listened': 2093, 'songs': 3293, 'haven': 1653, 'heard': 1670, 'since': 3205, 'childhood': 668, 'get': 1531, 'news': 2364, 'weather': 3915, 'information': 1836, 'sent': 3124, '85': 63, 'year': 4017, 'dad': 921, 'he': 1663, 'talks': 3523, 'constantly': 811, 'learning': 2045, 'knew': 1990, 'things': 3597, 'eveyday': 1275, 'still': 3411, 'figuring': 1398, 'how': 1748, 'everything': 1272, 'works': 3994, 'far': 1362, 'been': 427, 'easy': 1158, 'understand': 3753, 'make': 2184, 'me': 2217, 'laugh': 2031, 'at': 333, 'times': 3633, 'for': 1449, 'mother': 2301, 'who': 3949, 'knee': 1989, 'problems': 2726, 'now': 2406, 'give': 1540, 'trying': 3715, 'over': 2505, 'come': 730, 'around': 306, 'fast': 1366, 'did': 1015, 'enjoys': 1225, 'little': 2100, 'big': 457, 'song': 3292, 'time': 3630, 'where': 3941, 'cook': 840, 'just': 1967, 'expected': 1308, 'wife': 3958, 'hates': 1650, 'happy': 1637, 'purchase': 2774, 'set': 3137, 'up': 3785, 'we': 3910, 'only': 2452, 'using': 3814, 'couple': 868, 'days': 936, 'are': 295, 'our': 2491, 'new': 2361, 'toy': 3678, 'household': 1746, 'member': 2229, 'learn': 2042, 'different': 1023, 'featues': 1375, 'benefits': 442, 'size': 3223, '2nd': 29, 'generation': 1526, 'needs': 2349, 'improvement': 1799, 'liked': 2077, 'original': 2485, 'shorter': 3171, 'greater': 1590, 'fabric': 1335, 'color': 723, 'choices': 672, 'miss': 2273, 'volume': 3873, 'ring': 3007, 'top': 3664, 'plus': 2654, 'minus': 2267, 'buttons': 562, 'deal': 941, 'comforting': 735, 'other': 2488, 'than': 3573, 'standard': 3381, 'usb': 3805, 'charger': 653, 'port': 2668, 'instead': 1860, 'previous': 2708, 'round': 3023, 'pin': 2621, 'guess': 1608, 'sounds': 3313, 'seems': 3105, 'work': 3987, 'computer': 775, 'good': 1561, 'understands': 3755, 'most': 2299, 'commands': 739, 'difficult': 1025, 'find': 1405, 'specific': 3335, 'playlists': 2642, 'spotify': 3362, 'amazon': 235, 'lacking': 2008, 'major': 2183, 'programs': 2739, 'radio': 2807, 'through': 3613, 'itunes': 1941, 'podcasts': 2658, 'anypod': 270, 'reminders': 2929, 'listen': 2092, 'flash': 1427, 'briefing': 523, 'morning': 2298, 'rely': 2920, 'custom': 906, 'lists': 2096, 'voice': 3867, 're': 2827, 'sure': 3487, 'll': 2106, 'continue': 823, 'uses': 3813, 'bit': 466, 'frustrating': 1479, 'doesn': 1098, 'saying': 3058, 'few': 1392, 'adding': 133, 'devices': 1008, 'stationed': 3398, 'kitchen': 1988, 'counter': 862, 'intrusive': 1902, 'look': 2131, 'plays': 2643, 'sleep': 3231, 'immediately': 1788, 'second': 3095, 'unit': 3765, 'was': 3896, 'expecting': 1309, 'improved': 1798, 'didnt': 1017, 'difference': 1021, 'overall': 2507, '1st': 19, 'amazing': 233, 'product': 2730, 'operate': 2462, 'loads': 2113, 'advertised': 158, 'mainly': 2177, 'favorite': 1373, 'tunes': 3720, 'test': 3565, 'knowledge': 1997, 'them': 3583, 'item': 1937, 'used': 3808, 'hard': 1638, 'answering': 258, 'will': 3961, 'better': 448, 'capabilities': 596, 'pretty': 2704, 'command': 737, 'unique': 3764, 'owners': 2520, 'users': 3812, 'tasha': 3531, 'birthday': 465, 'definition': 965, 'fine': 1408, 'etc': 1258, 'speakers': 3330, 'small': 3245, 'setup': 3144, 'bought': 510, 'two': 3732, 'rate': 2821, 'followed': 1444, 'instructions': 1862, 'synching': 3506, 'both': 503, 'units': 3766, 'know': 1994, 'done': 1107, 'won': 3976, 'sync': 3504, 'primary': 2716, 'motivation': 2302, 'purchasing': 2778, 'multiple': 2315, 'device': 1006, 'awesome': 368, 'compare': 757, 'quality': 2789, 'first': 1417, 'ship': 3160, 'daughter': 934, 'though': 3607, 'because': 416, 'fact': 1341, 'chargeable': 652, 'base': 396, 'which': 3944, 'keeps': 1974, 'more': 2296, 'mobile': 2280, 'wasn': 3898, 'follow': 1443, 'included': 1809, 'package': 2523, 'tube': 3716, 'way': 3908, 'cool': 842, 'should': 3173, 'want': 3889, 'digital': 1028, 'assistant': 328, 'giving': 1543, 'review': 2997, 'cheap': 661, 'price': 2710, 'prime': 2717, 'day': 935, 'clock': 700, 'going': 1557, 'place': 2625, 'ended': 1210, 'go': 1553, 'then': 3586, 'definitely': 964, 'try': 3714, 'best': 445, 'number': 2413, 'connect': 797, 'came': 582, 'plug': 2650, '10': 3, 'lamp': 2016, 'husband': 1764, 'likes': 2079, 'wish': 3968, 'android': 251, 'would': 4003, 'allow': 206, 'fortunately': 1461, 'sister': 3216, 'here': 1689, 'apple': 283, 'cell': 629, 'after': 171, 'hour': 1743, 'tech': 3538, 'support': 3481, 'fixed': 1422, 'glitches': 1549, 'running': 3033, 'tried': 3702, 'certain': 633, 'broadway': 531, 'shows': 3182, 'camelot': 583, 'gives': 1542, 'ne': 2341, 'group': 1600, 'satisfied': 3049, 'controls': 833, 'family': 1357, 'jimmy': 1953, 'buffet': 541, 'by': 569, 'asking': 320, 'siri': 3213, 'accurately': 106, 'don': 1106, 'real': 2837, 'need': 2346, 'bargain': 391, 'deals': 942, 'tons': 3657, 'much': 2312, 'no': 2383, 'list': 2091, 'must': 2317, 'account': 102, 'pay': 2563, 'your': 4032, 'stars': 3387, 'excelente': 1286, 'lo': 2110, 'unico': 3761, 'es': 1245, 'que': 2791, 'esta': 1253, 'en': 1204, 'español': 1249, 'actually': 123, 'expect': 1305, 'some': 3283, 'also': 221, 'considering': 806, '70': 56, '00': 0, 'sale': 3041, 'phenomenal': 2597, 'mention': 2233, 'helpful': 1684, 'google': 1565, 'lets': 2061, 'others': 2489, 'friends': 1475, 'company': 755, '83': 62, 'say': 3057, 'name': 2325, 'tells': 3554, 'him': 1704, 'joke': 1957, 'his': 1710, 'available': 363, 'could': 860, 'overview': 2513, 'built': 547, 'hub': 1752, 'primarily': 2715, 'wonderfully': 3979, 'several': 3147, 'tips': 3642, 'thanks': 3575, 'help': 1681, 'clear': 694, 'concise': 783, 'fantastic': 1361, 'am': 227, 'alexia': 199, 'usde': 3806, 'its': 1939, 'full': 1481, 'extent': 1327, 'na': 2324, 'nana': 2328, 'said': 3040, '34': 34, 'speak': 3328, 'function': 1489, 'own': 2517, 'collections': 719, 'setting': 3139, 'always': 226, 'fios': 1412, 'television': 3551, 'hoping': 1734, 'discovered': 1067, 'stations': 3399, 'long': 2128, 'ranger': 2816, 'apps': 294, 'add': 128, 'abilities': 77, 'played': 2638, 'madlibs': 2173, 'appliances': 285, 'compatible': 759, 'power': 2683, 'strips': 3432, 'lighting': 2073, 'fans': 1360, 'tv': 3725, 'components': 773, 'looking': 2133, 'forward': 1463, 'implementing': 1792, 'controll': 828, 'chosen': 678, 'rooms': 3017, 'located': 2116, 'excellent': 1287, 'perfectly': 2576, 'nervous': 2355, 'savvy': 3054, 'intimidating': 1897, 'didn': 1016, 'take': 3515, 'figure': 1396, 'thinking': 3599, 'spot': 3361, 'technology': 3545, 'believe': 436, 'wonderful': 3978, 'dot': 1113, 'fathers': 1370, 'hearing': 1671, 'brainer': 513, 'ever': 1267, 'charge': 651, 'cent': 631, 'unlimited': 3770, 'buy': 563, 'already': 219, 'even': 1262, 'fuller': 1482, 'during': 1145, 'phone': 2604, 'calls': 577, 'made': 2172, 'contact': 815, 'patient': 2558, 'discount': 1063, 'offered': 2431, 'pass': 2553, 'comes': 732, 'playlist': 2641, 'iphone': 1920, 'pandora': 2536, 'youtube': 4034, 'videos': 3850, 'types': 3736, 'countries': 865, 'downside': 1122, 'limited': 2084, 'data': 930, 'wifi': 3959, 'plan': 2631, 'burns': 556, 'strictly': 3430, 'material': 2211, 'hooked': 1730, 'light': 2070, 'additional': 135, 'thermostat': 3590, 'next': 2367, 'there': 3588, 'traffic': 3682, 'trivia': 3706, 'entire': 1234, 'loves': 2154, 'part': 2545, 'functions': 1492, 'wow': 4005, 'homework': 1725, 'talking': 3522, 'grandchildren': 1574, 'huge': 1758, 'bonus': 491, 'worked': 3989, 'exactly': 1280, 'perfect': 2575, 'classroom': 690, 'gadget': 1500, 'lives': 2103, 'easier': 1155, 'personal': 2589, 'secretary': 3098, 'hardly': 1641, 'cd': 624, 'anymore': 268, 'dots': 1114, 'soon': 3297, 'surprising': 3492, 'impressed': 1795, 'bass': 402, 'coming': 736, 'bigger': 458, 'props': 2751, 'worse': 3998, 'within': 3972, 'feels': 1386, 'gen': 1521, 'besides': 444, 'addition': 134, 'outlet': 2497, 'disappointed': 1051, 'responsive': 2982, 'terrible': 3563, 'too': 3659, 'bose': 500, 'troubling': 3710, 'paid': 2530, 'extra': 1329, 'money': 2290, 'access': 89, 'million': 2255, 'ex': 1278, 'italian': 1935, 'opera': 2461, 'tosca': 3666, 'sorry': 3306, 'bad': 379, 'plugged': 2651, 'outside': 2501, 'battery': 407, 'recharged': 2862, 'ways': 3909, 'hit': 1712, 'grandkids': 1577, 'dance': 924, 'yrs': 4036, 'cute': 913, 'generally': 1525, 'doing': 1102, 'timers': 3632, 'making': 2186, 'why': 3954, 'connection': 800, 'dies': 1019, 'stops': 3417, 'red': 2884, 'issue': 1930, 'upgraded': 3792, 'couldn': 861, 'happier': 1636, 'lilttle': 2082, 'ease': 1154, 'provides': 2762, 'enhanced': 1219, 'such': 3461, 'clarity': 686, 'age': 175, 'delivery': 976, 'initially': 1841, 'harder': 1640, 'called': 575, 'knowledgeable': 1998, 'live': 2101, 'enjoy': 1220, 'style': 3444, 'greade': 1588, 'wireless': 3967, 'blasting': 471, 'across': 110, 'busy': 558, 'picks': 2615, 'asked': 318, 'down': 1116, 'check': 664, 'those': 3605, 'remembering': 2925, 'anything': 271, 'week': 3920, 'except': 1289, 'quicker': 2798, 'grab': 1570, 'twist': 3730, 'press': 2701, 'thoroughly': 3604, 'enjoying': 1223, 'ecoo': 1166, 'read': 2832, 'audiobook': 349, 'office': 2433, 'simply': 3202, 'open': 2457, 'kindle': 1985, 'elsewhere': 1197, 'listening': 2094, 'mood': 2295, 'book': 492, 'myself': 2322, 'talk': 3520, 'turning': 3723, 'system': 3508, 'job': 1954, 'streaming': 3428, 'sirius': 3214, 'process': 2728, 'call': 574, 'started': 3389, 'keeping': 1973, 'shopping': 3167, 'grocery': 1597, 'search': 3091, 'paper': 2538, 'pencil': 2569, 'temperature': 3556, 'reports': 2956, 'fussy': 1497, 'woofers': 3983, 'tweeters': 3728, 'afternoon': 172, 'dropping': 1137, 'son': 3291, 'gets': 1532, 'surprise': 3490, 'multi': 2314, 'everyone': 1271, 'three': 3611, 'qvc': 2806, 'annoying': 254, 'show': 3176, 'downloaded': 1119, 'spend': 3348, 'phrase': 2610, 'machine': 2169, 'may': 2214, 'yourself': 4033, 'beginning': 431, 'accidentally': 96, 'spilled': 3352, 'water': 3905, 'replaced': 2948, 'decided': 947, 'minutes': 2269, 'tell': 3552, 'trouble': 3707, 'finding': 1406, 'title': 3644, 'moved': 2307, 'basement': 399, 'requests': 2961, 'somewhat': 3290, 'half': 1623, 'recognize': 2867, 'sprinkler': 3366, 'controller': 831, 'details': 1000, 'program': 2735, 'change': 643, 'settings': 3140, 'matched': 2210, 'router': 3025, 'handy': 1630, 'player': 2639, 'kids': 1981, 'were': 3932, 'pleasantly': 2644, 'surprised': 3491, 'particular': 2547, 'artist': 312, 'books': 493, 'simple': 3197, 'exploring': 1321, 'options': 2473, 'met': 2241, 'exceeded': 1284, 'expectations': 1307, 'quick': 2797, 'responses': 2981, 'kind': 1983, 'request': 2959, 'informative': 1837, 'photo': 2607, 'pamphlet': 2535, 'thorough': 3603, 'line': 2085, 'video': 3849, 'app': 277, 'define': 963, 'example': 1281, 'integrated': 1864, 'into': 1898, 'words': 3986, 'exact': 1279, 'match': 2209, 'names': 2327, 'never': 2360, 'remember': 2924, 'ready': 2836, 'nature': 2332, 'respond': 2977, 'queries': 2793, 'added': 129, 'audible': 345, 'makes': 2185, 'thank': 3574, 'resist': 2972, 'connecting': 799, 'plugs': 2653, 'let': 2060, 'skills': 3227, 'routines': 3028, 'audiophile': 351, 'watching': 3904, 'movies': 2309, 'high': 1700, 'design': 992, 'modern': 2285, 'touch': 3671, 'covers': 874, 'enables': 1207, 'possibilities': 2676, 'versatile': 3835, 'killer': 1982, 'regret': 2907, 'waiting': 3878, 'pleased': 2646, 'stopped': 3416, 'weeks': 3925, 'performs': 2582, 'provide': 2759, 'terminology': 3562, 'various': 3827, 'kinds': 1986, 'subscribing': 3451, 'service': 3135, 'knowing': 1995, 'provided': 2760, 'free': 1467, 'along': 213, 'chart': 658, 'showing': 3179, 'language': 2019, 'investment': 1911, 'helped': 1682, 'exho': 1299, 'gender': 1523, 'band': 384, 'jazz': 1948, 'local': 2114, 'stop': 3415, 'value': 3824, 'super': 3476, 'loving': 2155, 'whats': 3936, 'father': 1369, 'joked': 1958, 'mom': 2286, 'repeated': 2943, 'stories': 3420, 'breakfast': 519, 'instantly': 1859, 'slowly': 3243, 'sad': 3037, 'worthless': 4001, 'entertainment': 1233, 'beat': 411, 'portability': 2669, 'till': 3629, 'someone': 3286, 'stoled': 3414, 'afford': 168, 'replace': 2947, 'rocks': 3012, 'allows': 209, 'amozon': 244, 'worth': 4000, 'itself': 1940, 'briefs': 525, 'jokes': 1959, 'hers': 1690, 'told': 3652, 'hours': 1744, 'later': 2029, 'life': 2067, 'four': 1465, 'large': 2022, 'returning': 2996, 'order': 2477, 'otherwise': 2490, 'tou': 3670, 'user': 3811, 'friendly': 1474, 'wall': 3887, 'socket': 3270, 'fault': 1371, 'checking': 666, 'assumption': 332, 'technologically': 3544, 'advanced': 154, 'sell': 3113, 'rechargeable': 2861, 'return': 2993, 'boom': 494, 'flexibility': 1435, 'aux': 358, 'external': 1328, 'wouldn': 4004, 'isn': 1927, 'override': 2511, 'default': 957, 'prevents': 2706, 'blue': 481, 'tooth': 3663, 'delay': 971, 'bt': 535, 'interaction': 1876, 'schedule': 3063, 'connected': 798, 'supberb': 3475, 'lots': 2145, 'updates': 3789, 'sports': 3360, 'intuitive': 1903, 'link': 2087, 'hang': 1631, 'complaints': 766, 'suggestions': 3470, 'future': 1498, 'series': 3129, 'communication': 748, 'ability': 78, 'unless': 3768, 'specify': 3338, 'prior': 2720, 'either': 1184, 'afterwards': 173, 'repeat': 2942, 'odd': 2426, 'maybe': 2215, 'southern': 3317, 'manners': 2196, 'described': 990, 'automatic': 355, 'enrolment': 1227, 'owned': 2518, 'overa': 2506, 'lacks': 2009, 'increase': 1817, 'decrease': 953, 'telling': 3553, 'english': 1218, 'born': 499, 'korea': 2003, 'superb': 3477, 'info': 1834, 'hot': 1741, 'recognizes': 2868, 'discovering': 1069, 'paroduct': 2544, 'range': 2815, 'complicated': 770, 'quite': 2802, 'speaking': 3331, 'clearly': 696, 'feature': 1376, 'interfacing': 1885, 'abode': 80, 'security': 3100, 'absolutely': 83, 'dislike': 1072, 'installation': 1853, 'kasa': 1969, 'again': 174, 'sinqued': 3212, 'right': 3006, 'bulb': 548, 'seamless': 3088, 'automation': 357, 'anticipated': 263, 'these': 3591, 'fairly': 1350, 'manufacturers': 2200, 'lg': 2064, 'due': 1140, 'supporting': 3483, 'older': 2441, 'tvs': 3726, 'locks': 2121, 'piece': 2620, 'equipment': 1241, 'fire': 1413, 'fabulous': 1336, 'invested': 1909, 'extremely': 1331, 'warehouse': 3892, 'minor': 2263, 'imperfection': 1791, 'packaging': 2526, 'sealed': 3087, 'damage': 923, 'missing': 2275, 'knock': 1992, 'curve': 905, 'integrates': 1865, 'seamlessly': 3089, 'services': 3136, 'alone': 212, 'sleeping': 3233, 'changer': 645, 'seriously': 3131, 'start': 3388, 'wake': 3880, 'gotten': 1568, 'hesitate': 1694, 'unbelievable': 3749, 'buying': 566, 'cordless': 848, 'holder': 1717, 'anywhere': 275, 'lapsed': 2020, 'differentiate': 1024, 'among': 241, 'accounts': 103, 'randomly': 2814, 'speaks': 3332, 'nobody': 2384, 'today': 3648, 'unplugged': 3776, '100': 4, 'electronics': 1192, 'comment': 740, 'pod': 2656, 'car': 601, 'third': 3600, 'penny': 2570, 'employees': 1203, 'flat': 1429, 'bedrooms': 423, 'drop': 1135, 'intercom': 1879, 'alarms': 190, 'school': 3067, 'timer': 3631, 'condition': 784, 'responds': 2979, 'quickly': 2799, 'issues': 1931, 'scheduling': 3066, 'thoughts': 3609, 'recorded': 2879, 'amazed': 231, 'actions': 114, 'perform': 2578, 'smaller': 3246, 'funny': 1493, 'winds': 3965, 'totally': 3669, 'useful': 3809, 'slightly': 3240, 'hears': 1672, 'unfortunately': 3758, 'frequently': 1470, 'usually': 3816, 'consider': 805, 'upgrade': 3791, 'experience': 1311, 'mostly': 2300, 'personality': 2590, 'mini': 2260, 'yes': 4023, 'excited': 1296, 'begin': 429, 'grandsons': 1583, 'watch': 3902, 'goo': 1560, 'whole': 3950, 'enjoyed': 1222, 'result': 2989, 'straightforward': 3425, 'messed': 2240, 'thought': 3608, 'step': 3406, 'complete': 767, 'lose': 2139, 'ground': 1599, 'until': 3780, 'figured': 1397, 'advice': 161, 'move': 2306, 'biggest': 459, 'moment': 2287, 'intercoms': 1880, 'however': 1749, 'aware': 366, 'existence': 1300, 'likely': 2078, 'designers': 994, 'anticipate': 262, 'people': 2571, 'challenge': 639, 'ours': 2492, 'tap': 3526, 'improvements': 1800, 'each': 1150, 'bugs': 544, 'adjust': 144, 'treble': 3695, 'probably': 2724, 'fan': 1358, 'deep': 955, 'might': 2253, 'sufficient': 3465, 'potential': 2681, 'option': 2471, 'explore': 1319, 'evolve': 1276, 'recognition': 2866, 'impressive': 1796, 'stylish': 3445, 'regrets': 2908, 'technically': 3541, 'changes': 646, 'movie': 2308, 'elderly': 1186, 'once': 2446, 'premium': 2696, 'blown': 479, 'dj': 1091, 'conversations': 837, 'embarrassed': 1200, 'packages': 2525, 'addict': 130, 'arrived': 309, 'side': 3189, 'ago': 178, 'forget': 1455, 'ordering': 2479, 'pool': 2663, 'worry': 3997, 'hiring': 1709, 'electrician': 1188, 'put': 2785, 'outlets': 2498, 'yard': 4014, 'terrific': 3564, 'nicer': 2372, 'late': 2027, 'adopters': 149, 'decide': 946, 'serve': 3133, 'source': 3315, 'us': 3801, 'changing': 647, 'directv': 1045, 'channels': 649, 'iheartradio': 1777, 'adjusts': 147, 'ac': 85, 'turns': 3724, 'wanting': 3891, 'glad': 1545, 'stuff': 3440, 'non': 2387, 'personally': 2593, 'cooking': 841, 'simultaneously': 3203, 'integration': 1867, 'daily': 922, 'subject': 3448, 'hesitant': 1693, 'feel': 1384, 'superior': 3478, 'greatest': 1591, 'showman': 3180, 'pain': 2531, 'crappy': 881, 'internet': 1892, 'inside': 1849, 'bummed': 552, 'efficient': 1178, 'often': 2436, 'comparable': 756, 'gave': 1514, 'nothing': 2398, 'concerned': 780, 'enjoyment': 1224, 'pleasure': 2648, 'timing': 3634, 'before': 428, 'enter': 1228, 'password': 2554, 'apartment': 276, 'given': 1541, 'bathroom': 403, '4am': 43, 'metro': 2242, 'booming': 496, 'replacement': 2949, 'night': 2375, 'stand': 3379, 'barely': 390, '1100sf': 7, 'sitting': 3220, 'functionality': 1491, 'discover': 1066, 'pure': 2779, 'especially': 1250, 'communicate': 745, 'turned': 3722, 'calling': 576, 'dancing': 925, 'lol': 2125, 'wedding': 3919, 'update': 3787, 'genre': 1528, 'whenever': 3940, 'wi': 3955, 'fi': 1393, 'entertaining': 1232, 'products': 2732, 'helps': 1686, 'prepare': 2697, 'weak': 3911, 'stream': 3427, 'months': 2294, 'kinda': 1984, 'useless': 3810, 'hoped': 1732, 'download': 1118, 'pc': 2566, 'installing': 1855, 'invasive': 1906, 'drivers': 1132, 'retired': 2992, 'install': 1852, 'supplying': 3480, 'inconvenient': 1815, 'compact': 753, 'upstairs': 3799, 'beyond': 451, 'lve': 2164, 'tekkie': 3549, 'prize': 2722, 'course': 869, 'longer': 2129, 'unresponsive': 3777, 'reset': 2970, 'grandaughter': 1573, '2000': 22, 'miles': 2254, 'ones': 2449, 'duty': 1147, 'boost': 497, 'definitively': 966, 'star': 3385, 'ahead': 181, 'audio': 347, 'auxiliary': 359, 'input': 1845, 'dedicated': 954, 'proved': 2757, 'brand': 514, 'main': 2176, 'refurbished': 2898, 'relaxing': 2914, 'recommend': 2870, 'loud': 2146, 'select': 3108, '3rd': 37, 'party': 2552, 'box': 511, 'sending': 3118, 'mine': 2259, 'back': 375, 'asap': 315, 'waste': 3900, 'man': 2191, 'pictures': 2619, 'cord': 847, 'prefer': 2693, 'purpose': 2781, 'cheaper': 662, 'act': 111, 'encyclopedias': 1208, 'nest': 2356, 'phillips': 2602, 'hue': 1756, 'leaving': 2051, 'chair': 637, 'aren': 298, 'dislikes': 1073, 'amazons': 237, 'promised': 2743, 'returned': 2994, 'refund': 2894, 'refunds': 2895, 'weird': 3927, 'pauses': 2562, 'speech': 3342, 'pattern': 2560, 'present': 2699, 'shower': 3177, 'spoken': 3358, 'promp': 2746, 'word': 3985, 'shipping': 3163, 'six': 3222, 'poop': 2664, 'month': 2292, 'poor': 2665, 'five': 1420, 'arent': 299, 'naw': 2336, 'techie': 3539, 'friend': 1473, 'looked': 2132, 'adapter': 126, 'strong': 3433, 'dollar': 1103, 'store': 3419, 'hope': 1731, 'trek': 3696, 'outsmart': 2502, 'include': 1808, 'spelling': 3347, 'background': 376, 'wanted': 3890, 'responding': 2978, 'foot': 1446, 'yelling': 4020, 'whatever': 3935, 'performing': 2581, 'dont': 1108, 'trust': 3713, 'beautiful': 412, 'accessories': 93, 'last': 2025, '6th': 55, 'divertido': 1090, 'guest': 1609, 'center': 632, 'save': 3051, 'bucks': 536, 'less': 2058, 'prompt': 2747, 'flawlessly': 1432, 'complain': 762, 'spell': 3346, '80s': 60, 'iove': 1916, 'tinny': 3639, 'attach': 337, 'fm': 1441, 'reception': 2860, 'software': 3274, 'horrible': 1736, 'native': 2330, 'americans': 240, 'whose': 3953, 'north': 2394, 'texas': 3568, 'neither': 2352, 'accent': 86, 'birth': 464, 'area': 296, 'understanding': 3754, 'additionally': 136, 'marginal': 2202, 'extender': 1324, 'ten': 3559, 'feet': 1388, 'switched': 3501, 'disconnected': 1059, 'dust': 1146, 'collectors': 720, 'broken': 533, 'spent': 3350, 'fixes': 1423, 'accomplished': 99, 'everywhere': 1274, 'went': 3931, 'rubber': 3031, 'bottom': 508, 'unplug': 3775, 'laundry': 2034, 'granddaughter': 1575, 'moving': 2310, 'outdoors': 2496, 'certified': 635, 'receiving': 2857, 'acknowledge': 108, 'indicated': 1822, 'productsand': 2733, 'journey': 1960, 'improve': 1797, 'problem': 2725, 'surely': 3488, 'larger': 2023, 'portion': 2671, 'leary': 2047, 'puny': 2771, 'wear': 3913, 'tear': 3536, 'shuts': 3186, 'mint': 2266, 'owning': 2522, 'frustrated': 1478, 'finally': 1404, 'reach': 2828, 'remote': 2933, 'parts': 2551, 'teenagers': 3547, 'insist': 1850, 'dinner': 1038, 'convenient': 835, 'refurb': 2896, 'saved': 3052, 'worried': 3996, 'nights': 2377, 'planning': 2633, 'parents': 2542, 'everyday': 1270, 'granted': 1585, 'young': 4029, 'simplicity': 3199, 'gazebo': 1515, 'sort': 3307, 'research': 2965, 'tool': 3661, 'variety': 3826, 'louder': 2147, 'internal': 1890, 'universal': 3767, 'charging': 654, 'outstanding': 2503, 'saving': 3053, 'means': 2220, 'run': 3032, 'diagnostics': 1012, 'corrected': 852, 'roomba': 3016, 'goes': 1556, 'mean': 2218, 'crashed': 882, 'disconnect': 1058, 'orange': 2475, 'freeze': 1468, 'reboot': 2847, 'mid': 2250, 'sentence': 3125, 'holding': 1718, 'action': 113, 'button': 561, 'seconds': 3096, 'fix': 1421, 'buyer': 564, 'purchases': 2777, 'ordered': 2478, 'none': 2388, 'honestly': 1727, 'performance': 2579, 'learned': 2043, 'portable': 2670, 'highly': 1703, 'recommended': 2871, 'rep': 2939, 'walked': 3884, 'solved': 3281, 'shocked': 3164, 'effort': 1179, 'including': 1811, 'email': 1199, 'clone': 704, 'boat': 486, 'garage': 1509, 'gf': 1534, 'intermittently': 1889, 'channel': 648, 'okay': 2439, 'confusing': 795, 'green': 1593, 'case': 614, 'took': 3660, 'notification': 2402, 'supposed': 3486, 'yellow': 4021, 'pulsate': 2768, 'message': 2237, 'pulsed': 2769, 'above': 82, 'become': 418, 'buddies': 537, 'breeze': 520, 'close': 705, 'psychological': 2764, 'haha': 1618, 'defective': 959, 'taken': 3516, 'excellently': 1288, 'amazingly': 234, 'helping': 1685, 'appointments': 288, 'whe': 3938, 'showering': 3178, 'reconditioned': 2873, 'pare': 2541, 'weary': 3914, 'picking': 2614, 'actively': 120, 'happening': 1634, 'concerning': 781, 'release': 2916, 'widespread': 3957, 'push': 2783, 'firmware': 1416, 'prevent': 2705, 'cortna': 855, 'application': 286, 'alive': 203, 'thumbs': 3620, 'workreat': 3993, 'spoke': 3357, 'registered': 2906, '39': 36, '99': 70, 'spanking': 3325, 'grandson': 1582, 'taking': 3518, 'laying': 2037, 'bed': 421, 'moana': 2279, 'completely': 769, 'scared': 3060, 'sh': 3149, 'essentially': 1252, 'opening': 2459, '20': 20, 'versatility': 3836, 'wherever': 3942, 'fee': 1379, 'cordthank': 849, 'shouldn': 3174, 'brandnew': 515, 'collection': 718, 'god': 1554, 'under': 3751, '150': 12, 'sonos': 3294, 'worst': 3999, 'online': 2451, 'microphone': 2247, 'pick': 2612, 'appear': 281, 'disappoint': 1050, 'receiver': 2855, 'output': 2499, 'vintage': 3855, 'stereo': 3408, 'edit': 1170, 'longevity': 2130, 'compliments': 772, 'bough': 509, 'echoes': 1161, 'bathrooms': 404, 'detect': 1001, 'disconnects': 1062, '12': 8, 'significant': 3193, 'shelled': 3156, 'awhile': 370, 'electronically': 1191, 'savy': 3055, 'cant': 595, 'sink': 3211, 'ran': 2812, 'refurbishedthought': 2899, 'guys': 1613, 'meditation': 2226, 'eye': 1333, 'drops': 1138, 'eyes': 1334, 'closed': 706, 'minute': 2268, 'backyard': 378, 'deck': 950, 'substitute': 3456, 'highest': 1702, 'level': 2062, 'netflix': 2358, 'stick': 3409, 'warranty': 3895, 'assumed': 330, 'sold': 3275, 'higher': 1701, 'standards': 3382, 'guaranteeing': 1606, 'junk': 1966, '15': 11, 'whatsoever': 3937, 'uncle': 3750, 'sometime': 3288, 'haywire': 1656, 'quit': 2801, 'soft': 3272, 'advised': 163, '29': 28, 'writing': 4007, 'raised': 2810, 'customer': 907, 'dunno': 1144, 'lately': 2028, 'guy': 1612, 'rambled': 2811, 'unhelpful': 3760, 'script': 3082, 'middle': 2251, 'spiel': 3351, 'norm': 2392, 'finicky': 1410, '5ghz': 50, 'reconnecting': 2877, 'mic': 2246, 'sensitivity': 3123, 'limitations': 2083, 'hey': 1696, 'responsiveness': 2983, 'hold': 1716, 'true': 3711, 'albeit': 191, 'arlo': 304, 'nil': 2379, 'special': 3333, 'led': 2052, 'eg': 1182, 'rainbow': 2809, 'effects': 1176, 'handle': 1626, 'knows': 2000, 'solid': 3277, 'colors': 724, 'brightness': 527, 'levels': 2063, 'rating': 2823, 'lower': 2157, 'decent': 945, 'connectivity': 801, 'persist': 2587, 'exchange': 1293, 'growing': 1602, 'theirs': 3582, 'treadmill': 3693, 'rather': 2822, 'tower': 3676, '3xs': 39, 'model': 2283, 'least': 2048, 'activated': 116, 'yell': 4019, 'lauded': 2030, 'convenience': 834, 'screaming': 3076, 'chance': 642, 'excuses': 1298, 'disappointments': 1054, 'effortless': 1180, 'flawless': 1431, 'walk': 3883, 'door': 1109, '80': 59, 'viola': 3856, 'instant': 1857, 'atmosphere': 335, 'accessing': 92, 'joy': 1961, 'sooo': 3299, 'ocean': 2425, 'groups': 1601, 'excitement': 1297, 'alexas': 197, 'obvious': 2421, 'mode': 2282, 'unnecessary': 3773, 'preciously': 2691, 'guard': 1607, 'dog': 1100, 'sense': 3121, 'leaves': 2050, 'blinks': 475, 'tricks': 3700, 'functionalities': 1490, 'human': 1760, 'interface': 1884, 'shout': 3175, 'chores': 676, 'dogs': 1101, 'golden': 1558, 'expensive': 1310, 'tapped': 3529, 'capable': 598, 'absolutly': 84, 'existing': 1302, 'apprehensive': 290, 'electronic': 1190, 'guarantee': 1605, 'form': 1459, 'sits': 3219, 'desk': 996, 'footprint': 1448, 'verbally': 3833, 'occasionally': 2424, 'alert': 193, 'tardis': 3530, 'land': 2018, 'geeks': 1520, 'chose': 677, 'majel': 2181, 'barret': 394, 'geek': 1519, 'heaven': 1674, 'properly': 2750, 'attached': 338, 'nsa': 2410, 'packaged': 2524, 'zero': 4038, 'entertained': 1231, 'honest': 1726, 'opinion': 2466, 'reads': 2835, 'refurbish': 2897, 'neat': 2344, 'drives': 1133, 'nuts': 2417, 'garbage': 1510, 'total': 3667, 'dissatisfaction': 1081, 'lived': 2102, 'low': 2156, 'interesting': 1883, 'wikipedia': 3960, 'department': 983, 'forgotten': 1457, 'mainstream': 2178, 'amusing': 247, 'yards': 4015, 'cotton': 858, 'refer': 2888, 'football': 1447, 'sorely': 3304, 'reasonable': 2844, 'hal': 1622, 'brought': 534, 'seldom': 3107, 'tired': 3643, 'troubleshooting': 3708, 'reconnected': 2876, 'monthly': 2293, 'workout': 3992, 'reaching': 2830, 'row': 3029, 'accurate': 105, 'imagined': 1786, 'im': 1781, 'further': 1494, 'thats': 3577, 'complaint': 765, 'conspiracy': 809, 'theories': 3587, 'eavesdropping': 1159, 'efforts': 1181, 'government': 1569, 'current': 902, 'degrees': 969, '91': 68, '81': 61, 'requesting': 2960, 'recording': 2880, 'weren': 3933, 'labeled': 2006, 'known': 1999, 'report': 2954, 'ai': 182, 'educational': 1172, 'eh': 1183, 'refurbishing': 2900, 'type': 3734, 'wont': 3981, 'irritating': 1922, 'ita': 1934, 'inexperience': 1831, 'intended': 1872, 'perfecto': 2577, 'white': 3948, 'black': 468, 'shown': 3181, 'realize': 2839, 'died': 1018, 'boss': 501, 'performed': 2580, 'owlhead': 2516, 'jacuzzi': 1944, 'attention': 343, 'gaming': 1507, 'nrw': 2409, 'defently': 961, 'ok': 2438, 'stupid': 3442, 'couch': 859, 'shortly': 3172, 'becomes': 419, 'niece': 2373, 'upsetting': 3798, 'crackling': 879, 'noise': 2386, 'introduction': 1901, 'grand': 1572, 'gone': 1559, 'version': 3839, 'plans': 2634, 'date': 931, 'despite': 998, 'trained': 3685, 'wonder': 3977, 'realized': 2840, 'faulty': 1372, 'send': 3117, 'according': 100, 'toilet': 3651, 'truly': 3712, 'contacted': 816, 'credited': 889, 'shop': 3166, 'deliver': 973, 'their': 3581, 'suggest': 3467, 'together': 3650, 'hosting': 1740, 'lm': 2109, 'fanatic': 1359, 'extend': 1322, 'offers': 2432, 'outdoor': 2495, 'possible': 2677, 'disturbing': 1086, 'indoor': 1827, 'weekend': 3923, 'reminder': 2928, 'bible': 456, 'verses': 3838, 'commute': 750, 'dodging': 1096, 'linked': 2088, 'between': 450, 'refurbs': 2901, 'wakes': 3881, 'unused': 3782, 'states': 3395, 'synced': 3505, 'cam': 580, 'baby': 374, 'crib': 891, 'lyrics': 2167, 'ish': 1925, 'understood': 3756, 'worthy': 4002, 'successor': 3460, 'benefit': 441, 'screen': 3077, 'nightstand': 2378, 'faces': 1339, 'choose': 673, 'displays': 1079, 'facetime': 1340, 'anyway': 273, 'shape': 3151, 'bedside': 424, 'theecho': 3580, 'mybedroom': 2321, 'answered': 257, 'wasconcerned': 3897, 'discoveredthat': 1068, 'avoid': 364, 'confusion': 796, 'named': 2326, 'male': 2188, 'tomy': 3654, 'camera': 584, 'doorbell': 1110, 'thestand': 3592, 'advantages': 156, 'reviews': 2999, 'heck': 1676, 'convinced': 839, 'kept': 1975, 'drag': 1125, 'dining': 1037, 'bring': 528, 'customization': 910, 'disagree': 1049, 'chat': 659, 'freezes': 1469, 'error': 1243, 'lack': 2007, 'resetting': 2971, 'resolves': 2976, 'important': 1793, 'creepy': 890, 'specifying': 3339, 'disconcerting': 1057, 'negative': 2350, 'groggy': 1598, 'snooze': 3262, 'slow': 3242, 'compared': 758, 'designed': 993, 'face': 1337, 'factor': 1342, 'seeing': 3102, 'square': 3370, 'rectangular': 2882, 'gizmo': 1544, 'purposes': 2782, 'individual': 1825, 'individually': 1826, 'shut': 3185, 'falling': 1353, 'asleep': 321, 'switch': 3500, 'accomplish': 98, 'repeating': 2944, 'altering': 222, 'hopefully': 1733, 'reminds': 2931, 'phones': 2605, 'computers': 776, 'ipads': 1918, 'fussing': 1496, 'park': 2543, 'runs': 3034, 'awsome': 372, 'ceases': 625, 'amaze': 230, 'bang': 387, 'softly': 3273, 'rain': 2808, 'scratched': 3074, 'surface': 3489, 'devise': 1009, 'skeptical': 3225, 'grows': 1604, 'disappointing': 1052, 'rid': 3002, 'glorified': 1551, 'cost': 856, 'effective': 1175, 'scrolling': 3084, 'saw': 3056, 'entering': 1229, 'world': 3995, 'programmed': 2737, 'previously': 2709, '_specifically_': 71, 'cloud': 709, 'display': 1076, 'front': 1477, 'ant': 260, 'trailer': 3683, 'laptop': 2021, 'desktop': 997, 'appliance': 284, 'interrupt': 1895, 'photos': 2609, 'paired': 2533, 'lamps': 2017, 'capability': 597, 'tad': 3513, 'recipient': 2865, 'challenged': 640, 'changed': 644, 'selling': 3114, 'point': 2659, 'cropping': 894, 'strange': 3426, 'selection': 3109, 'glaring': 1546, 'exception': 1290, 'scroll': 3083, 'defeats': 958, 'reminded': 2927, 'advertising': 160, 'dims': 1036, 'based': 398, 'ambient': 238, 'years': 4018, 'glow': 1552, 'typical': 3737, 'clocks': 703, 'bother': 504, 'bothersome': 507, 'bunch': 553, 'walls': 3888, 'lover': 2153, 'resembling': 2968, 'alabama': 188, 'anyways': 274, 'table': 3510, 'website': 3917, 'pair': 2532, 'perhaps': 2583, 'viewed': 3852, 'solves': 3282, 'efficiency': 1177, 'displaying': 1078, 'routinely': 3027, 'interested': 1882, 'furthermore': 1495, 'basic': 400, 'navigation': 2335, 'tailor': 3514, 'waking': 3882, 'dark': 927, 'cameras': 585, 'route': 3024, 'accordingly': 101, 'involved': 1913, 'returnef': 2995, 'spanish': 3324, 'hardcore': 1639, 'infact': 1832, 'members': 2230, 'toddler': 3649, 'variant': 3825, 'beauty': 414, 'placing': 2629, 'soundtouch': 3314, 'sing': 3207, 'careless': 607, 'whisper': 3946, 'ear': 1151, 'normal': 2393, 'viewing': 3853, 'combination': 727, 'plugins': 2652, 'alex': 195, 'matter': 2212, 'became': 415, 'indispensable': 1824, 'extrimelly': 1332, 'personalization': 2591, 'aloud': 217, 'typed': 3735, 'unlocking': 3771, 'codes': 715, 'unwitty': 3783, 'developers': 1004, 'positive': 2674, 'privacy': 2721, 'invasions': 1905, 'happened': 1633, 'carrier': 610, 'defence': 960, 'surprisingly': 3493, 'hands': 1629, 'interpret': 1893, 'distance': 1082, 'ridiculous': 3004, 'note': 2397, 'event': 1264, 'calendar': 572, 'task': 3532, 'difficulty': 1026, 'span': 3323, 'imagine': 1785, 'boring': 498, 'college': 721, 'paying': 2565, 'waited': 3877, 'advertisement': 159, 'skype': 3229, 'aunt': 353, 'disappointment': 1053, 'notice': 2399, 'searching': 3093, 'pen': 2568, 'regular': 2909, 'rest': 2985, 'id': 1768, 'adds': 140, 'xm': 4012, 'trailers': 3684, 'served': 3134, '30pm': 33, 'protected': 2753, 'directly': 1043, 'safe': 3039, '30': 31, 'basically': 401, 'skill': 3226, 'beam': 410, 'specially': 3334, 'reactive': 2831, 'receive': 2853, 'til': 3628, 'opened': 2458, 'convert': 838, 'enabled': 1206, 'spots': 3364, 'general': 1524, 'sweet': 3496, 'dimat': 1032, 'bright': 526, 'fall': 1352, 'mu': 2311, 'hcfe': 1658, 'bot': 502, 'rings': 3008, 'moms': 2288, 'ise': 1924, 'christmas': 679, 'unnannounced': 3772, 'warning': 3893, 'activities': 121, 'events': 1265, 'misunderstands': 2277, 'lit': 2097, 'end': 1209, 'listens': 2095, 'short': 3168, 'dropped': 1136, 'consistent': 807, 'bringing': 529, 'pro': 2723, 'feed': 1380, 'displayed': 1077, '75': 57, 'grandfather': 1576, 'lesson': 2059, 'visits': 3863, 'font': 1445, 'apparently': 279, 'lags': 2014, 'possibly': 2678, 'angle': 253, 'attractive': 344, 'alternative': 223, 'clean': 691, 'lightning': 2074, 'sleeps': 3234, 'addicted': 131, 'dependable': 984, 'places': 2628, 'meh': 2228, 'inability': 1806, 'fits': 1419, 'lightening': 2072, 'storm': 3421, 'images': 1783, 'messaging': 2239, 'travel': 3689, 'ad': 124, 'law': 2035, 'currently': 903, 'related': 2912, 'flaws': 1433, 'unusable': 3781, 'card': 602, 'homescreen': 1724, 'cards': 603, 'cycle': 916, 'automatically': 356, 'incredibly': 1820, 'opt': 2468, 'continuously': 826, 'critically': 893, 'rebooted': 2848, 'su': 3446, 'funcionamiento': 1487, 'llama': 2107, 'la': 2005, 'atención': 334, 'rapidez': 2817, 'de': 937, 'respuesta': 2984, 'el': 1185, 'se': 3086, 'logra': 2124, 'través': 3692, 'utilización': 3818, 'con': 777, 'sorprendió': 3305, 'gratamente': 1587, 'muy': 2319, 'recomendable': 2869, 'missed': 2274, 'snoozes': 3264, 'swipe': 3498, 'prompts': 2748, 'dismiss': 1074, 'glasses': 1547, 'dismissed': 1075, 'tomorrow': 3653, 'mon': 2289, 'thu': 3618, 'fri': 1471, 'early': 1152, 'apparent': 278, 'indicator': 1823, 'fingertips': 1409, 'puts': 2786, 'crisp': 892, 'habit': 1614, '12am': 10, 'cleaning': 693, 'ladies': 2010, 'ceiling': 626, 'gripe': 1596, 'view': 3851, 'gen2': 1522, 'simpler': 3198, 'novelty': 2405, 'acts': 122, 'sleek': 3230, 'scrolls': 3085, 'etekcity': 1259, 'voltson': 3872, 'harvard': 1643, 'degree': 968, 'updating': 3790, 'complaining': 764, 'goodness': 1564, 'lov': 2149, 'station': 3396, 'iheart': 1776, 'sucks': 3463, 'overwhelming': 2514, 'cutting': 915, 'counters': 863, 'wide': 3956, 'forth': 1460, 'felt': 1390, 'dying': 1148, 'attempted': 341, 'jaws': 1947, 'comfortable': 734, 'dressed': 1129, 'business': 557, 'owner': 2519, 'staff': 3375, 'driven': 1131, 'hired': 1708, 'organized': 2482, 'updated': 3788, 'assistance': 327, 'smoothly': 3257, 'suggested': 3468, 'versions': 3840, 'reportsalarm': 2957, 'register': 2905, 'cut': 912, 'fit': 1418, 'circle': 682, 'pop': 2666, 'stay': 3400, 'toward': 3674, 'treat': 3694, 'dumb': 1141, 'bloomberg': 478, 'npr': 2408, 'gain': 1502, 'familiar': 1356, 'key': 1976, 'catch': 617, 'space': 3319, 'conditions': 786, 'iy': 1942, 'coolest': 844, 'sliced': 3236, 'bread': 517, 'finds': 1407, 'although': 225, 'deactivate': 938, 'cover': 872, 'anytime': 272, 'location': 2117, 'nervana': 2354, 'geared': 1518, 'towards': 3675, 'nigh': 2374, 'dimmer': 1034, 'beta': 447, 'india': 1821, 'suppose': 3485, '79': 58, 'network': 2359, 'jamming': 1945, 'weekday': 3921, 'delivers': 975, 'period': 2584, 'helper': 1683, 'tasks': 3533, 'adequate': 142, 'travelling': 3691, 'youngest': 4031, 'mama': 2190, 'companion': 754, 'elegant': 1193, 'goodies': 1562, 'omg': 2444, 'reading': 2834, 'silly': 3194, 'selfies': 3112, 'sends': 3119, 'hubby': 1754, 'beautifully': 413, 'hide': 1699, 'cause': 620, 'squirms': 3371, 'conscious': 804, 'blocking': 476, 'cancel': 590, 'pre': 2690, 'weekdays': 3922, 'permanently': 2586, 'rotates': 3019, 'upset': 3797, 'acting': 112, 'fail': 1345, 'sadly': 3038, 'misplace': 2272, 'blessing': 472, 'bedtime': 425, 'kid': 1980, 'liking': 2080, 'unobtrusive': 3774, 'numerous': 2415, 'practically': 2687, 'themes': 3584, 'menu': 2235, 'precise': 2692, 'east': 1157, 'coast': 714, 'massive': 2208, 'failing': 1347, 'woken': 3975, 'partner': 2550, 'manually': 2198, 'swiping': 3499, 'touching': 3672, 'results': 2990, 'ii': 1779, 'manage': 2192, 'delete': 972, 'recurring': 2883, 'whether': 3943, 'happen': 1632, 'screw': 3081, 'repair': 2940, 'receivded': 2852, '07': 2, '23': 25, '18': 13, 'please': 2645, 'advise': 162, 'hadn': 1617, 'thrown': 3616, 'ting': 3636, 'fascinating': 1364, 'microphones': 2248, 'models': 2284, 'picture': 2618, 'forces': 1451, 'disable': 1047, 'persuasion': 2594, 'enters': 1230, 'hell': 1680, 'monitor': 2291, 'syncing': 3507, 'hasn': 1645, 'alerts': 194, 'enable': 1205, 'ignoring': 1775, 'customers': 908, 'marketing': 2206, 'customize': 911, 'contents': 820, 'content': 819, 'acceptable': 87, 'moreover': 2297, 'debating': 943, 'person': 2588, 'fell': 1389, 'briefings': 524, 'recipes': 2864, 'concern': 779, 'grandparents': 1580, 'tend': 3560, 'conferencing': 788, 'tools': 3662, 'impede': 1790, 'operations': 2464, 'takes': 3517, 'care': 605, 'thursday': 3622, 'unwrapped': 3784, 'reoccurring': 2937, 'rotate': 3018, 'bill': 460, 'believer': 437, 'shell': 3155, 'arm': 305, 'leg': 2054, 'reference': 2889, 'cohesive': 717, 'manual': 2197, 'websites': 3918, 'instruction': 1861, 'kwikset': 2004, 'pizza': 2624, 'hut': 1765, 'views': 3854, 'hype': 1767, 'bugging': 543, '1990': 16, 'downright': 1121, 'ugly': 3742, 'interest': 1881, 'soundbar': 3309, 'smartphone': 3251, 'interact': 1874, 'media': 2222, 'navigating': 2334, 'pages': 2529, 'arrive': 308, 'fiances': 1394, 'preferred': 2695, 'notifications': 2403, 'seen': 3106, 'delivered': 974, 'integrating': 1866, 'dash': 929, 'renting': 2936, 'tinker': 3637, 'road': 3010, 'hvac': 1766, 'looooooove': 2135, 'disaster': 1056, 'chachki': 636, 'genres': 1529, 'adjustment': 146, 'hong': 1728, 'kong': 2002, 'sized': 3224, 'bezel': 452, 'usable': 3803, 'involves': 1914, 'starts': 3391, 'crap': 880, 'dare': 926, 'child': 667, 'hundred': 1762, 'outrageous': 2500, 'meant': 2221, 'nonsense': 2389, 'nanny': 2329, 'adorable': 150, 'recently': 2859, 'subscriber': 3450, 'alternatives': 224, 'alleviate': 205, 'shine': 3158, 'items': 1938, 'analog': 249, 'buyers': 565, 'remorse': 2932, 'sight': 3191, 'decor': 951, 'thongs': 3602, 'numb': 2412, 'thunderstorm': 3621, 'yesterday': 4024, 'indundated': 1828, 'stimulus': 3412, 'suitable': 3472, 'sony': 3296, 'pull': 2766, 'entirely': 1235, 'knocked': 1993, 'decision': 949, 'cycles': 918, 'screens': 3079, 'rotation': 3020, 'promotion': 2745, 'packing': 2527, 'heads': 1667, 'emergency': 1201, 'folks': 1442, 'woke': 3974, 'advertise': 157, 'town': 3677, 'lady': 2011, 'researched': 2966, '45': 41, 'avail': 361, 'occasional': 2423, 'force': 1450, 'trending': 3698, 'greatly': 1592, 'depreciates': 988, 'willing': 3962, 'billboard': 461, 'streamline': 3429, 'warns': 3894, 'snarls': 3259, 'suggesting': 3469, 'introducing': 1900, 'artists': 313, 'amaonmazing': 228, 'blanket': 469, 'infotainment': 1839, 'sleepy': 3235, 'zonked': 4040, 'zzzzzzz': 4042, 'awake': 365, 'yep': 4022, 'statement': 3394, 'excessive': 1292, 'rotations': 3021, 'screenselect': 3080, 'settingshome': 3141, 'clockhome': 701, 'cardsrotate': 604, 'onceproblem': 2447, 'nicely': 2371, 'constructed': 812, 'replaces': 2950, 'arriving': 310, 'pricey': 2713, 'https': 1751, 'www': 4009, 'com': 725, 'dp': 1124, 'b073sqyxtw': 373, 'ref': 2887, 'cm_cr_ryp_prd_ttl_sol_18': 711, 'choice': 671, 'positives': 2675, 'nearly': 2343, 'literally': 2098, 'initial': 1840, 'pros': 2752, 'unlike': 3769, 'clearer': 695, 'cons': 803, 'web': 3916, 'installed': 1854, 'porch': 2667, 'mount': 2304, 'lcd': 2040, 'dim': 1031, 'sensitive': 3122, 'sleeper': 3232, 'wind': 3963, 'taping': 3528, 'tape': 3527, 'tiny': 3640, 'suffer': 3464, 'ads': 151, 'forever': 1454, 'swell': 3497, 'crazy': 885, 'eeaanh': 1173, 'slide': 3237, 'pivoting': 2622, 'separately': 3127, 'colon': 722, 'celebs': 628, 'jump': 1962, 'board': 485, 'voices': 3868, 'nit': 2380, 'picky': 2616, 'beefy': 426, 'compliment': 771, 'determined': 1002, 'overheating': 2509, 'technical': 3540, '24': 26, '48': 42, 'replied': 2952, 'inline': 1843, 'per': 2573, 'unacceptable': 3747, 'arises': 303, 'farther': 1363, 'cleaner': 692, 'sounding': 3311, 'perk': 2585, 'print': 2719, 'beside': 443, 'split': 3355, 'hairs': 1621, 'increasing': 1818, 'weekly': 3924, 'overtime': 2512, 'project': 2740, 'feedback': 1381, 'self': 3111, 'staying': 3402, 'hotel': 1742, 'bundle': 554, 'girls': 1539, '25': 27, 'deployed': 987, 'appropriate': 292, 'serious': 3130, 'particularly': 2548, 'engineers': 1217, 'tested': 3566, 'schedules': 3065, 'walking': 3885, '5am': 49, 'fumble': 1484, 'plain': 2630, 'cumbersome': 900, 'situations': 3221, 'spouse': 3365, 'separate': 3126, 'cancels': 593, 'cancelled': 592, 'snoozed': 3263, 'amused': 246, 'summoning': 3473, 'creapy': 886, 'af': 165, 'tall': 3524, 'vice': 3847, 'versa': 3834, 'tends': 3561, 'break': 518, 'intermittent': 1888, 'optical': 2469, 'stands': 3384, '90': 67, 'grandmother': 1578, 'herself': 1691, 'sets': 3138, 'mind': 2257, 'podcast': 2657, 'expired': 1315, 'digs': 1030, 'cartoons': 613, 'desired': 995, 'hectic': 1677, 'voila': 3870, 'virtual': 3857, 'hire': 1707, 'libraries': 2065, 'sooooo': 3300, 'sopt': 3302, 'past': 2555, 'realizing': 2841, 'amazonia': 236, 'lil': 2081, 'text': 3569, 'recipe': 2863, 'lost': 2143, 'mentioned': 2234, 'caused': 621, 'effected': 1174, 'anyhow': 266, 'children': 669, 'happens': 1635, 'hand': 1625, 'pleasedsimple': 2647, 'aspects': 323, 'interacting': 1875, 'tremendous': 3697, 'country': 866, 'anyone': 269, 'dhiw': 1011, 'hmm': 1713, 'cnn': 712, 'preview': 2707, 'pricing': 2714, 'underestimated': 3752, 'cart': 612, 'chatting': 660, 'isnt': 1928, 'image': 1782, 'pixelated': 2623, 'oh': 2437, 'slideshow': 3238, 'sticks': 3410, 'leave': 2049, 'articles': 311, 'solution': 3280, 'shutting': 3187, 'mexico': 2243, 'usa': 3802, 'houses': 1747, 'systems': 3509, 'homes': 1723, 'mimic': 2256, 'bulbs': 549, 'baseball': 397, 'scores': 3070, 'cooler': 843, 'audiobooks': 350, 'loses': 2140, 'applications': 287, 'optional': 2472, 'bezos': 453, 'spying': 3369, 'reccomend': 2851, 'disposable': 1080, 'income': 1813, 'cat': 616, 'vacation': 3821, 'idea': 1769, 'routine': 3026, 'imhave': 1787, 'hate': 1648, 'recommending': 2872, 'continually': 822, 'bc': 408, 'guide': 1610, 'floating': 1438, 'purely': 2780, 'aesthetic': 164, 'natural': 2331, 'mediocre': 2225, 'track': 3680, 'holiday': 1720, 'gifts': 1537, 'organization': 2481, 'virtually': 3858, 'heavy': 1675, 'punch': 2770, 'mids': 2252, 'awful': 369, 'rarely': 2819, 'activates': 117, 'meaningful': 2219, 'distraction': 1085, 'practicalthan': 2688, 'powerful': 2685, 'pics': 2617, 'constant': 810, '88': 64, 'uninstall': 3763, 'reinstall': 2911, 'reconfigure': 2874, 'jumped': 1963, 'resistant': 2973, 'york': 4027, 'fair': 1349, '1964': 15, '54': 48, 'co': 713, 'worker': 3990, 'telephone': 3550, 'directions': 1042, 'laughter': 2033, 'eliminate': 1195, 'payed': 2564, 'held': 1678, 'sooooooo': 3301, 'expectation': 1306, 'pia': 2611, 'shipped': 3162, 'manuals': 2199, 'magically': 2174, 'maximize': 2213, 'examples': 1282, 'kick': 1978, 'pants': 2537, 'udefulness': 3741, 'engine': 1216, 'hated': 1649, 'parties': 2549, 'correct': 851, 'dish': 1071, '129': 9, 'ti': 3623, 'definately': 962, '229': 24, 'hesitated': 1695, 'recent': 2858, 'mac': 2168, 'air': 185, 'stuck': 3438, 'unable': 3746, 'referred': 2891, 'intelagence': 1868, 'dependence': 985, 'pushed': 2784, 'accessable': 90, 'gather': 1512, 'subsequently': 3455, 'ihome': 1778, 'docking': 1093, 'created': 888, 'visual': 3864, 'clothes': 708, 'dryer': 1139, 'eco': 1164, 'lines': 2086, 'resolution': 2974, 'trigger': 3704, 'literate': 2099, 'controlled': 830, 'net': 2357, 'fills': 1402, 'connects': 802, 'resume': 2991, 'utility': 3817, 'owe': 2515, 'marked': 2204, 'lyrical': 2166, 'post': 2679, 'malone': 2189, 'consumer': 814, 'argument': 301, 'state': 3393, 'feeds': 1382, 'spectacular': 3341, 'stellar': 3405, 'hi': 1697, 'campus': 586, 'carry': 611, 'stationary': 3397, 'comfort': 733, 'invasion': 1904, 'relief': 2919, 'onme': 2453, 'visa': 3859, 'voiceview': 3869, 'reader': 2833, 'blind': 473, 'ourselves': 2493, 'single': 3209, 'vast': 3828, 'library': 2066, 'canary': 589, 'agree': 179, 'deeper': 956, 'havent': 1654, 'capacity': 599, 'join': 1956, 'backgrounds': 377, 'primeday': 2718, 'blows': 480, 'sources': 3316, 'advantage': 155, 'incredible': 1819, 'amount': 242, 'untapped': 3779, 'locked': 2120, 'behind': 434, 'restrictions': 2987, 'navigate': 2333, 'hd': 1659, 'priced': 2711, 'st': 3374, 'louis': 2148, 'thrilled': 3612, 'seprately': 3128, 'mics': 2249, 'tg': 3571, 'ed': 1168, '4k': 45, 'sharp': 3153, 'tries': 3703, 'drawback': 1127, 'noticed': 2401, 'recordings': 2881, 'secret': 3097, 'agent': 176, 'johnny': 1955, 'rivers': 3009, 'history': 1711, 'comeletely': 731, 'concept': 778, 'irritated': 1921, 'communicating': 747, 'upon': 3796, 'baffled': 381, 'eventually': 1266, 'nor': 2391, 'abay': 74, 'combined': 729, 'cylinder': 919, 'writes': 4006, 'accompanying': 97, 'anylist': 267, 'pause': 2561, 'decides': 948, 'exceeds': 1285, 'wealth': 3912, 'topic': 3665, 'customizable': 909, 'hole': 1719, 'preparing': 2698, 'spotlight': 3363, 'cams': 587, 'demand': 977, 'clients': 698, '2package': 30, 'cracked': 877, 'fourth': 1466, 'graphics': 1586, 'cozi': 875, 'drawing': 1128, 'essential': 1251, 'marvelous': 2207, 'lag': 2012, 'provider': 2761, 'speed': 3343, 'gb': 1516, 'a1': 72, 'conditioning': 785, 'friday': 1472, 'steep': 3404, 'diversity': 1089, 'rock': 3011, 'dec': 944, '2017': 23, 'window': 3964, 'opens': 2460, 'contains': 818, 'bar': 388, 'flashes': 1428, 'restart': 2986, 'grownups': 1603, 'requires': 2964, 'site': 3218, 'page': 2528, 'position': 2673, 'visuals': 3865, 'stove': 3423, 'cousin': 870, 'carolina': 609, 'addressed': 138, 'majes': 2182, 'enjoyable': 1221, 'glitching': 1550, 'repairs': 2941, 'newest': 2363, 'glitch': 1548, 'ty': 3733, 'jeapordy': 1949, 'visible': 3860, 'lazy': 2039, 'originally': 2487, 'competition': 760, 'developed': 1003, 'therefore': 3589, 'doesnt': 1099, 'themselves': 3585, '200': 21, 'shorted': 3170, 'lastly': 2026, 'membership': 2231, 'decorated': 952, 'minimal': 2261, 'subscription': 3452, 'nightmare': 2376, 'overpriced': 2510, 'vehicle': 3830, 'produc': 2729, 'fledged': 1434, 'tablet': 3511, 'accesss': 94, 'lurking': 2162, 'continous': 821, 'spam': 3322, 'promoting': 2744, 'settins': 3142, 'anti': 261, 'reasons': 2845, 'staging': 3377, 'acoustical': 109, 'cylindercal': 920, 'covered': 873, 'adjacent': 143, 'mixed': 2278, 'stinks': 3413, 'extras': 1330, 'afraid': 170, 'engaging': 1215, 'regard': 2902, 'bandwidth': 386, '4ghz': 44, 'vs': 3874, 'accuracy': 104, 'spoiled': 3356, 'detailed': 999, 'offing': 2435, 'ass': 324, 'ase': 316, 'participating': 2546, 'compacity': 752, 'aint': 184, 'international': 1891, 'via': 3845, 'tune': 3718, 'pulling': 2767, 'teeth': 3548, 'sign': 3192, 'totallly': 3668, 'blink': 474, 'everybody': 1269, 'jetsons': 1952, 'draw': 1126, 'teacher': 3534, 'ight': 1773, 'inviting': 1912, 'switches': 3502, 'expanding': 1304, 'maintaining': 2180, 'shuffle': 3184, 'photographs': 2608, 'sewing': 3148, 'smooth': 3256, 'wellfour': 3930, 'bizarre': 467, 'sore': 3303, 'thumb': 3619, 'powercord': 2684, 'flaw': 1430, 'strongly': 3434, 'urge': 3800, 'affirmations': 167, 'personalized': 2592, 'common': 744, 'allrecipes': 210, 'illustrated': 1780, 'orders': 2480, 'uhyour': 3743, 'selections': 3110, 'preferences': 2694, 'temp': 3555, 'searches': 3092, 'visiting': 3862, 'frustration': 1480, 'laziness': 2038, 'headphones': 1666, 'dig': 1027, 'bonkers': 490, 'brief': 522, 'floored': 1440, 'blurring': 484, 'shaking': 3150, 'jumping': 1964, 'talked': 3521, 'hassle': 1647, 'references': 2890, 'yup': 4037, 'hahaawesome': 1619, 'improving': 1801, 'impulse': 1802, 'hints': 1706, 'appears': 282, 'sparks': 3327, 'imagination': 1784, 'belong': 439, 'starting': 3390, 'specifically': 3336, 'nephews': 2353, 'grandparent': 1579, 'dementia': 978, 'memory': 2232, 'loss': 2142, 'medications': 2224, 'viceo': 3848, 'aka': 186, 'leaning': 2041, 'create': 887, 'nbsp': 2338, 'hence': 1687, 'messages': 2238, 'puzzled': 2788, 'quot': 2804, 'intelligent': 1870, 'yhe': 4026, 'thou': 3606, 'calendars': 573, 'contacts': 817, 'alongside': 214, 'útil': 4043, 'algo': 202, 'flickering': 1437, 'forums': 1462, 'isue': 1932, 'reported': 2955, 'solución': 3279, 'tin': 3635, '4th': 46, 'seemed': 3104, 'screenless': 3078, 'pointless': 2661, 'providing': 2763, 'story': 3422, 'hallway': 1624, 'bulky': 551, 'headline': 1664, 'suggests': 3471, 'adapted': 125, 'machines': 2170, 'cross': 895, 'activating': 118, 'rename': 2934, 'adept': 141, 'exceptionally': 1291, 'coffee': 716, 'prettier': 2703, 'dense': 981, 'ny': 2418, 'nj': 2382, 'regional': 2904, 'experiences': 1313, 'tablets': 3512, 'description': 991, 'surround': 3494, 'gadgets': 1501, 'spur': 3368, 'conversation': 836, 'dictionary': 1014, 'areas': 297, 'reduced': 2885, 'auto': 354, 'imrproved': 1803, 'galaxy': 1503, 's9': 3036, 'string': 3431, 'explicit': 1318, 'electeonically': 1187, 'feee': 1383, 'lifht': 2069, 'bing': 463, 'combine': 728, 'fidelity': 1395, 'silver': 3195, 'unimportant': 3762, 'intention': 1873, 'scottish': 3071, 'oops': 2456, 'plenty': 2649, 'specs': 3340, 'straight': 3424, 'lightbulb': 2071, 'stubborn': 3437, 'patio': 2559, 'gatherings': 1513, 'extends': 1325, 'vision': 3861, 'impaired': 1789, 'loaded': 2112, 'social': 3269, 'facebook': 1338, 'twitter': 3731, 'left': 2053, 'isolated': 1929, 'direct': 1040, 'whos': 3952, 'aspect': 322, 'distracting': 1084, 'countless': 864, 'dunce': 1143, 'sigh': 3190, 'exasperation': 1283, 'ignored': 1774, 'workarounds': 3988, 'scoured': 3072, 'beginners': 430, 'section': 3099, 'addresses': 139, 'configure': 790, 'accepting': 88, 'karen': 1968, 'controllable': 829, 'bff': 455, 'cups': 901, 'pound': 2682, 'sons': 3295, 'picked': 2613, 'slight': 3239, 'confused': 793, 'begun': 432, '360': 35, 'array': 307, 'practical': 2686, 'concerns': 782, 'mute': 2318, 'equalizer': 1240, 'introduce': 1899, 'lock': 2119, '888': 65, 'posed': 2672, 'somebody': 3284, 'community': 749, 'wave': 3907, 'zigbee': 4039, 'body': 488, 'wink': 3966, 'integrate': 1863, 'hubs': 1755, 'innovative': 1844, 'upgrading': 3794, 'cases': 615, 'settle': 3143, 'plane': 2632, 'bundled': 555, 'philly': 2603, 'buys': 567, 'newer': 2362, 'mark': 2203, 'yale': 4013, 'techy': 3546, 'audibles': 346, 'tunein': 3719, 'heart': 1673, 'tivo': 3645, 'bolt': 489, 'reorder': 2938, 'notifies': 2404, 'mailed': 2175, 'tp': 3679, 'devises': 1010, 'august': 352, 'ties': 3627, 'experienced': 1312, 'nexia': 2366, 'interactions': 1877, 'alread': 218, 'philips': 2599, 'nudged': 2411, 'build': 545, 'placed': 2626, 'fixtures': 1426, 'den': 979, 'fixture': 1425, 'required': 2963, 'configured': 791, 'brands': 516, 'disarm': 1055, 'management': 2193, 'baffle': 380, 'esp': 1247, 'dented': 982, 'exchanging': 1295, 'coop': 845, 'somehow': 3285, 'luv': 2163, 'reauthorize': 2846, 'ton': 3655, 'jeopardy': 1951, 'ge': 1517, 'corresponds': 854, 'exchanges': 1294, 'makings': 2187, 'documentation': 1095, 'becausse': 417, 'accident': 95, 'echoplus': 1162, 'extension': 1326, 'activate': 115, 'habla': 1615, 'espanol': 1248, 'hd8': 1660, 'cpr': 876, 'classical': 689, 'mistakes': 2276, 'sofa': 3271, 'sit': 3217, 'broke': 532, 'fixing': 1424, 'replacing': 2951, 'bridge': 521, 'philipshue': 2600, 'instantaneous': 1858, 'catches': 618, 'bothers': 506, 'conflict': 792, 'discovery': 1070, 'fully': 1483, 'evaluate': 1261, 'communicated': 746, 'preset': 2700, 'firmare': 1415, 'featured': 1377, 'iot': 1915, 'needing': 2348, 'standalone': 3380, 'redundant': 2886, 'equal': 1238, 'soundlink': 3312, 'importantly': 1794, 'bye': 570, 'tinkering': 3638, 'chalk': 638, 'repertoire': 2946, 'hook': 1729, 'walks': 3886, 'successfully': 3459, 'completed': 768, 'technicians': 3542, 'chromebook': 680, 'luck': 2158, 'behaved': 433, 'blast': 470, 'soccer': 3268, 'sport': 3359, 'teams': 3535, 'american': 239, 'remaining': 2921, 'pairing': 2534, 'utilizing': 3820, 'ecobee3': 1165, 'firestick': 1414, 'phillip': 2601, 'scooped': 3069, 'ball': 382, 'rcieved': 2826, 'buld': 550, 'mere': 2236, 'verbal': 3831, '62': 53, 'techno': 3543, 'knowledgable': 1996, 'hubbed': 1753, 'stump': 3441, 'googled': 1566, 'admit': 148, 'explored': 1320, 'refers': 2892, 'twice': 3729, 'thru': 3617, 'steps': 3407, 'xfinity': 4011, 'cable': 571, 'geo': 1530, 'fencing': 1391, 'leisure': 2056, 'remedial': 2923, 'reconnect': 2875, 'false': 1355, 'ghost': 1535, 'ipdates': 1919, 'resolved': 2975, 'adapting': 127, 'cheapest': 663, 'profiles': 2734, 'spins': 3354, 'near': 2342, 'handles': 1628, 'links': 2090, 'hulu': 1759, 'pets': 2595, '911': 69, 'regardless': 2903, 'layer': 2036, 'protection': 2754, 'bf': 454, 'cousins': 871, 'italy': 1936, 'facts': 1344, 'touted': 3673, 'samsung': 3045, 'interferes': 1887, 'depth': 989, 'fairness': 1351, 'advance': 153, 'protocol': 2755, 'supports': 3484, 'upgrades': 3793, 'texts': 3570, 'necessity': 2345, 'commodity': 743, 'disabled': 1048, 'doctor': 1094, 'medical': 2223, 'rides': 3003, 'hospitals': 1739, 'cue': 899, 'nurses': 2416, 'aide': 183, 'chocolate': 670, 'assist': 326, 'anybody': 265, 'affirm': 166, 'jeff': 1950, 'allowing': 208, 'disability': 1046, 'earn': 1153, '672': 54, 'ssdi': 3373, 'forecast': 1452, 'soaking': 3267, 'cursed': 904, 'scheduled': 3064, 'soaked': 3266, 'tec': 3537, 'complacated': 761, 'verbalize': 3832, 'sirrius': 3215, 'differences': 1022, 'dimming': 1035, 'scenes': 3061, 'tones': 3656, 'misled': 2271, 'explanation': 1317, 'throw': 3615, 'invest': 1908, 'shortcomings': 3169, 'fees': 1387, 'a19': 73, 'differ': 1020, 'speedy': 3345, 'steaming': 3403, 'skips': 3228, 'subscriptiondoes': 3453, 'audioapple': 348, 'deviceoverall': 1007, 'jack': 1943, 'philip': 2598, 'attempting': 342, 'failed': 1346, 'watched': 3903, 'poster': 2680, 'insanity': 1847, 'onto': 2454, 'operator': 2465, 'hr': 1750, '19': 14, 'mins': 2265, 'patience': 2557, 'shifting': 3157, 'mindset': 2258, 'kicking': 1979, 'locate': 2115, 'pray': 2689, 'attempt': 340, 'successful': 3458, 'revise': 3000, 'odds': 2427, 'defuser': 967, 'wasted': 3901, 'purchaser': 2776, 'phase': 2596, 'expanded': 1303, 'usage': 3804, 'noticeable': 2400, 'ends': 1212, 'unavailable': 3748, 'interrogated': 1894, 'originale': 2486, 'dimension': 1033, 'weight': 3926, 'woofer': 3982, 'tweeter': 3727, 'pointed': 2660, 'sub': 3447, 'losing': 2141, 'edge': 1169, 'fw': 1499, 'inferior': 1833, 'rattling': 2825, 'vibrating': 3846, 'distorted': 1083, 'rattle': 2824, 'crackle': 878, 'characteristics': 650, 'assuming': 331, 'classic': 688, 'orchestra': 2476, 'screamig': 3075, 'carefully': 606, 'click': 697, 'sneaky': 3260, 'whom': 3951, 'himself': 1705, 'wasnt': 3899, 'keen': 1970, 'goodmorning': 1563, 'sang': 3046, 'lolol': 2126, 'educated': 1171, 'laughs': 2032, 'waits': 3879, 'hes': 1692, 'island': 1926, 'direction': 1041, 'placement': 2627, 'appealing': 280, 'neighbors': 2351, 'building': 546, 'knob': 1991, 'adjusting': 145, 'inconvenience': 1814, 'sturdy': 3443, 'grip': 1595, 'granite': 1584, 'rub': 3030, 'scent': 3062, 'tipping': 3641, 'floor': 1439, 'assigned': 325, 'shining': 3159, 'tony': 3658, 'stark': 3386, 'quote': 2805, 'ownership': 2521, 'lucky': 2160, 'taller': 3525, 'spin': 3353, 'researching': 2967, 'setups': 3145, 'ontrac': 2455, 'usual': 3815, 'suck': 3462, 'smells': 3254, '3x': 38, 'regularly': 2910, 's8': 3035, 'checked': 665, 'cycled': 917, 'industry': 1829, 'continues': 824, 'roll': 3014, 'prove': 2756, 'clue': 710, 'em': 1198, 'grace': 1571, 'amplifier': 245, 'driving': 1134, 'standing': 3383, 'snell': 3261, 'clapper': 685, 'ceilings': 627, 'smartthings': 3253, 'muffled': 2313, 'eq': 1237, 'consistently': 808, 'hmmm': 1714, 'spending': 3349, 'senior': 3120, 'citizens': 683, 'mobility': 2281, 'depending': 986, 'comments': 741, 'sibling': 3188, 'versus': 3841, 'downstairs': 1123, 'singing': 3208, 'commanded': 738, 'lifetime': 2068, 'approaching': 291, '40': 40, '000': 1, 'hundreds': 1763, 'thousands': 3610, 'approximately': 293, '600': 52, 'subpar': 3449, 'rarity': 2820, 'discourage': 1065, 'investing': 1910, 'ecosystem': 1167, 'holy': 1721, 'batman': 405, 'jams': 1946, 'insanely': 1846, 'sooner': 3298, 'girlfriend': 1538, 'incorporated': 1816, 'dates': 933, 'science': 3068, 'core': 850, 'reminding': 2930, 'equalized': 1239, 'length': 2057, 'vacuum': 3823, 'replying': 2953, 'hassel': 1646, 'unsettling': 3778, 'repeats': 2945, 'obtrusive': 2420, 'training': 3687, 'coordinator': 846, 'blueprints': 482, 'gameshow': 1506, 'quiz': 2803, 'orientation': 2483, 'engage': 1213, 'trainees': 3686, 'success': 3457, 'classes': 687, 'filling': 1401, 'logitech': 2122, 'harmony': 1642, 'nope': 2390, 'denon': 980, 'av': 360, 'receivers': 2856, 'putting': 2787, 'consulting': 813, 'sincerely': 3206, 'smartthing': 3252, 'transferring': 3688, 'initiate': 1842, 'zzzz': 4041, 'ideal': 1770, 'boyfriend': 512, 'chromecast': 681, 'load': 2111, 'rebooting': 2849, 'attachment': 339, 'loose': 2136, 'wished': 3969, 'guilty': 1611, 'assume': 329, 'oldest': 2442, 'mirroring': 2270, 'ummm': 3744, 'sever': 3146, 'agreement': 180, 'expires': 1316, 'rent': 2935, 'headphone': 1665, 'roku': 3013, 'faster': 1367, 'darn': 928, 'kodi': 2001, 'addons': 137, 'platform': 2635, 'lagging': 2013, 'utilize': 3819, 'confident': 789, 'resemption': 2969, 'downfall': 1117, 'subscriptions': 3454, 'funciona': 1486, 'genial': 1527, 'june': 1965, 'crunchyroll': 896, 'pep': 2572, 'overcoming': 2508, 'switching': 3503, 'programming': 2738, 'charm': 656, 'simplify': 3201, 'alexus': 201, 'bet': 446, 'doubtful': 1115, 'pluto': 2655, 'tubi': 3717, 'lyric': 2165, 'programing': 2736, 'bills': 462, 'supplied': 3479, 'mounted': 2305, 'platforms': 2636, 'vudu': 3875, 'voltage': 3871, 'typically': 3738, 'quiet': 2800, 'relay': 2915, 'canceling': 591, 'satellite': 3048, 'alexis': 200, 'bettter': 449, 'extended': 1323, 'relatively': 2913, 'inexpensive': 1830, 'fill': 1399, 'gap': 1508, 'ethernet': 1260, 'speeds': 3344, 'hiccups': 1698, 'ridiculously': 3005, 'prices': 2712, '50': 47, '1gb': 17, '8gb': 66, 'storage': 3418, 'downloading': 1120, 'upcoming': 3786, 'includes': 1810, 'nfl': 2368, 'troublesome': 3709, 'record': 2878, 'remains': 2922, 'electricity': 1189, 'amounts': 243, 'luckily': 2159, 'directtv': 1044, 'woohoo': 3984, 'snap': 3258, 'feeling': 1385, 'inspired': 1851, 'gateway': 1511, 'trial': 3699, 'keyboard': 1977, 'typing': 3739, 'clips': 699, 'opportunity': 2467, 'mi': 2244, 'similar': 3196, 'evening': 1263, 'season': 3094, 'bloods': 477, 'csi': 897, 'miami': 2245, 'optimum': 2470, 'suffolk': 3466, 'county': 867, 'lovee': 2152, 'evrything': 1277, 'hahahaha': 1620, 'addicts': 132, 'amazin': 232, 'alots': 216, 'traditional': 3681, '1rst': 18, 'crashes': 883, 'buffer': 539, 'budget': 538, 'maneuver': 2195, 'activation': 119, 'ditched': 1088, 'market': 2205, 'unhappy': 3759, 'errors': 1244, 'crashing': 884, 'sling': 3241, 'nd': 2340, 'endless': 1211, '100x': 5, 'existent': 1301, 'sry': 3372, 'allowed': 207, 'officially': 2434, 'hdm1': 1661, 'bob': 487, 'dylan': 1149, 'xbox': 4010, 'buffering': 540, 'interruption': 1896, 'rewards': 3001, 'drive': 1130, 'singley': 3210, 'entry': 1236, 'inactivity': 1807, 'finish': 1411, 'availability': 362, 'arguments': 302, 'logo': 2123, 'younger': 4030, 'ditch': 1087, 'charmed': 657, 'forjust': 1458, 'clocking': 702, '300': 32, 'mb': 2216, 'mandatory': 2194, 'final': 1403, 'upload': 3795, 'charlotte': 655, 'nc': 2339, 'pur': 2773, 'cbs': 623, 'nbc': 2337, 'abc': 75, 'discounts': 1064, 'oriented': 2484, 'looses': 2137, 'closer': 707, 'rare': 2818, 'occasion': 2422, 'thete': 3593, 'cave': 622, 'las': 2024, 'películas': 2567, 'tiene': 3626, 'pueden': 2765, 'cambiar': 581, 'títulos': 3740, 'element': 1194, 'maddening': 2171, 'disconnections': 1061, 'inclusive': 1812, 'hdmi': 1662, 'ni': 2369, 'hbo': 1657, 'showtime': 3183, 'onetime': 2450, 'procedure': 2727, 'tge': 3572, 'batteries': 406, 'hauler': 1651, 'trip': 3705, 'commercials': 742, 'livingroom': 2105, 'semi': 3116, 'reviewing': 2998, 'factory': 1343, 'abd': 76, 'scratch': 3073, 'traveling': 3690, 'ban': 383, 'installs': 1856, 'theater': 3579, 'fat': 1368, 'forecasts': 1453, 'interactive': 1878, 'bug': 542, 'newsflash': 2365, 'reboots': 2850, 'stage': 3376, 'invention': 1907, 'tricky': 3701, 'stayed': 3401, 'hmmmm': 1715, 'appreciated': 289, 'disconnecting': 1060, 'tickled': 3624, 'keeper': 1972, 'linking': 2089, 'rough': 3022, 'patch': 2556, 'sunroom': 3474, 'helful': 1679, 'supported': 3482, 'reached': 2829, 'sprint': 3367, 'bare': 389, 'minimum': 2262, 'hospital': 1738, 'grands': 1581, 'welcome': 3928, 'serius': 3132, 'sm': 3244, 'alot': 215, 'fashioned': 1365, 'digitol': 1029, 'vacations': 3822, 'everytime': 1273, 'paranoid': 2540, 'vlan': 3866, 'require': 2962, 'questionable': 2795, 'carful': 608, 'vetted': 3843, 'askes': 319, 'handled': 1627, 'lonely': 2127, 'spark': 3326, 'ifs': 1772, 'ands': 252, 'buts': 560, 'minorly': 2264, 'comands': 726, 'capasity': 600, 'complained': 763, 'medium': 2227, 'doors': 1111, 'barn': 393, 'horse': 1737, 'healing': 1668, 'continuous': 825, 'spa': 3318, 'par': 2539, 'nite': 2381, 'boombox': 495, '11': 6, 'thick': 3595, 'dated': 932, 'champ': 641, 'yeah': 4016, 'insert': 1848, 'un': 3745, 'equipo': 1242, 'inteligente': 1869, 'al': 187, 'estar': 1254, 'conectado': 787, 'nos': 2395, 'provee': 2758, 'múltiples': 2323, 'funciones': 1488, 'tales': 3519, 'como': 751, 'tiempo': 3625, 'hora': 1735, 'información': 1835, 'cualquier': 898, 'estudio': 1256, 'estés': 1257, 'realizando': 2838, 'atrás': 336, 'vez': 3844, 'del': 970, 'forgot': 1456, 'amaxing': 229, 'greeting': 1594, 'oven': 2504, 'temps': 3557, 'simplified': 3200, 'bandwagon': 385, 'struggle': 3436, 'sharing': 3152, 'testing': 3567, 'reliable': 2918, 'qualty': 2790, 'filled': 1400, 'compound': 774, 'projects': 2742, 'projection': 2741, 'awkward': 371, 'students': 3439, 'dorm': 1112, 'spacing': 3321, 'smarter': 3249, 'smarthome': 3250, 'alright': 220, 'reputation': 2958, 'nois': 2385, 'shooting': 3165, 'motown': 2303, 'salsa': 3043, 'phonetically': 2606, 'intend': 1871, 'released': 2917, 'proper': 2749, 'development': 1005, 'fails': 1348, 'british': 530, 'restrictive': 2988, 'refined': 2893, 'informed': 1838, 'verse': 3837, 'argue': 300, 'imusic': 1804, 'structure': 3435, 'dumber': 1142, 'affordable': 169, 'lullaby': 2161, 'survived': 3495, 'bells': 438, 'whistles': 3947, 'satisified': 3050, 'flexible': 1436, 'alexi': 198, 'humour': 1761, 'favorites': 1374, 'nowhere': 2407, 'wishing': 3970, 'solely': 3276, 'loosing': 2138, 'presumably': 2702, 'interference': 1886, 'buzzing': 568, 'king': 1987, 'cutie': 914, 'sanity': 3047, 'choppy': 675, 'domain': 1105, 'city': 684, 'dial': 1013, 'lame': 2015, 'legally': 2055, 'godsend': 1555, 'numbers': 2414, 'choosing': 674, 'shipment': 3161, 'costs': 857, 'wattage': 3906, 'dollars': 1104, 'obsessed': 2419, 'stairs': 3378, 'certainly': 634, 'unexpected': 3757, 'remind': 2926, 'seams': 3090, 'maintain': 2179, 'smiths': 3255, 'falls': 1354, 'learnimg': 2044, 'sounded': 3310, 'emoji': 1202, 'below': 440, 'becoming': 420, 'accustom': 107, 'pup': 2772, 'calm': 578, 'wonders': 3980, 'calmer': 579, 'bark': 392, 'expert': 1314, 'operation': 2463, 'confuses': 794, 'engagement': 1214, 'sales': 3042, 'tempting': 3558, 'este': 1255, 'producto': 2731, 'llegó': 2108, 'semana': 3115, 'quedó': 2792, 'sin': 3204, 'olor': 2443, 'perdió': 2574, 'toda': 3647, 'escencia': 1246, 'huele': 1757, 'solo': 3278, 'alcohol': 192, 'barry': 395, 'ages': 177, 'adults': 152, 'locations': 2118, 'dead': 939, 'stat': 3392, 'bothered': 505, 'spaces': 3320}\n",
      "[[0 0 0 ... 0 0 0]\n",
      " [0 0 0 ... 0 0 0]\n",
      " [0 0 0 ... 0 0 0]\n",
      " ...\n",
      " [0 0 0 ... 0 0 0]\n",
      " [0 0 0 ... 0 0 0]\n",
      " [0 0 0 ... 0 0 0]]\n"
     ]
    },
    {
     "name": "stderr",
     "output_type": "stream",
     "text": [
      "/usr/local/lib/python3.9/site-packages/sklearn/utils/deprecation.py:87: FutureWarning: Function get_feature_names is deprecated; get_feature_names is deprecated in 1.0 and will be removed in 1.2. Please use get_feature_names_out instead.\n",
      "  warnings.warn(msg, category=FutureWarning)\n"
     ]
    }
   ],
   "source": [
    "import numpy as np\n",
    "from sklearn.feature_extraction.text import CountVectorizer\n",
    " \n",
    "vectorizer = CountVectorizer()\n",
    "docs = data['verified_reviews']\n",
    "#\n",
    "# Fit the bag-of-words model\n",
    "#\n",
    "bag = vectorizer.fit_transform(docs)\n",
    "#\n",
    "# Get unique words / tokens found in all the documents. The unique words / tokens represents\n",
    "# the features\n",
    "#\n",
    "print(vectorizer.get_feature_names())\n",
    "#\n",
    "# Associate the indices with each unique word\n",
    "#\n",
    "print(vectorizer.vocabulary_)\n",
    "#\n",
    "# Print the numerical feature vector\n",
    "#\n",
    "print(bag.toarray())"
   ]
  },
  {
   "cell_type": "markdown",
   "id": "a47609a5",
   "metadata": {},
   "source": [
    "### Create models to predict feedback using different ML algorithms"
   ]
  },
  {
   "cell_type": "markdown",
   "id": "e4677abe",
   "metadata": {},
   "source": [
    "### 1. LogisticRegression"
   ]
  },
  {
   "cell_type": "code",
   "execution_count": 6,
   "id": "a322c627",
   "metadata": {},
   "outputs": [
    {
     "name": "stdout",
     "output_type": "stream",
     "text": [
      "LogisticRegression Accuracy 0.945\n"
     ]
    },
    {
     "name": "stderr",
     "output_type": "stream",
     "text": [
      "/usr/local/lib/python3.9/site-packages/sklearn/linear_model/_logistic.py:444: ConvergenceWarning: lbfgs failed to converge (status=1):\n",
      "STOP: TOTAL NO. of ITERATIONS REACHED LIMIT.\n",
      "\n",
      "Increase the number of iterations (max_iter) or scale the data as shown in:\n",
      "    https://scikit-learn.org/stable/modules/preprocessing.html\n",
      "Please also refer to the documentation for alternative solver options:\n",
      "    https://scikit-learn.org/stable/modules/linear_model.html#logistic-regression\n",
      "  n_iter_i = _check_optimize_result(\n",
      "/usr/local/lib/python3.9/site-packages/sklearn/linear_model/_logistic.py:444: ConvergenceWarning: lbfgs failed to converge (status=1):\n",
      "STOP: TOTAL NO. of ITERATIONS REACHED LIMIT.\n",
      "\n",
      "Increase the number of iterations (max_iter) or scale the data as shown in:\n",
      "    https://scikit-learn.org/stable/modules/preprocessing.html\n",
      "Please also refer to the documentation for alternative solver options:\n",
      "    https://scikit-learn.org/stable/modules/linear_model.html#logistic-regression\n",
      "  n_iter_i = _check_optimize_result(\n",
      "/usr/local/lib/python3.9/site-packages/sklearn/linear_model/_logistic.py:444: ConvergenceWarning: lbfgs failed to converge (status=1):\n",
      "STOP: TOTAL NO. of ITERATIONS REACHED LIMIT.\n",
      "\n",
      "Increase the number of iterations (max_iter) or scale the data as shown in:\n",
      "    https://scikit-learn.org/stable/modules/preprocessing.html\n",
      "Please also refer to the documentation for alternative solver options:\n",
      "    https://scikit-learn.org/stable/modules/linear_model.html#logistic-regression\n",
      "  n_iter_i = _check_optimize_result(\n",
      "/usr/local/lib/python3.9/site-packages/sklearn/linear_model/_logistic.py:444: ConvergenceWarning: lbfgs failed to converge (status=1):\n",
      "STOP: TOTAL NO. of ITERATIONS REACHED LIMIT.\n",
      "\n",
      "Increase the number of iterations (max_iter) or scale the data as shown in:\n",
      "    https://scikit-learn.org/stable/modules/preprocessing.html\n",
      "Please also refer to the documentation for alternative solver options:\n",
      "    https://scikit-learn.org/stable/modules/linear_model.html#logistic-regression\n",
      "  n_iter_i = _check_optimize_result(\n",
      "/usr/local/lib/python3.9/site-packages/sklearn/linear_model/_logistic.py:444: ConvergenceWarning: lbfgs failed to converge (status=1):\n",
      "STOP: TOTAL NO. of ITERATIONS REACHED LIMIT.\n",
      "\n",
      "Increase the number of iterations (max_iter) or scale the data as shown in:\n",
      "    https://scikit-learn.org/stable/modules/preprocessing.html\n",
      "Please also refer to the documentation for alternative solver options:\n",
      "    https://scikit-learn.org/stable/modules/linear_model.html#logistic-regression\n",
      "  n_iter_i = _check_optimize_result(\n",
      "/usr/local/lib/python3.9/site-packages/sklearn/linear_model/_logistic.py:444: ConvergenceWarning: lbfgs failed to converge (status=1):\n",
      "STOP: TOTAL NO. of ITERATIONS REACHED LIMIT.\n",
      "\n",
      "Increase the number of iterations (max_iter) or scale the data as shown in:\n",
      "    https://scikit-learn.org/stable/modules/preprocessing.html\n",
      "Please also refer to the documentation for alternative solver options:\n",
      "    https://scikit-learn.org/stable/modules/linear_model.html#logistic-regression\n",
      "  n_iter_i = _check_optimize_result(\n",
      "/usr/local/lib/python3.9/site-packages/sklearn/linear_model/_logistic.py:444: ConvergenceWarning: lbfgs failed to converge (status=1):\n",
      "STOP: TOTAL NO. of ITERATIONS REACHED LIMIT.\n",
      "\n",
      "Increase the number of iterations (max_iter) or scale the data as shown in:\n",
      "    https://scikit-learn.org/stable/modules/preprocessing.html\n",
      "Please also refer to the documentation for alternative solver options:\n",
      "    https://scikit-learn.org/stable/modules/linear_model.html#logistic-regression\n",
      "  n_iter_i = _check_optimize_result(\n",
      "/usr/local/lib/python3.9/site-packages/sklearn/linear_model/_logistic.py:444: ConvergenceWarning: lbfgs failed to converge (status=1):\n",
      "STOP: TOTAL NO. of ITERATIONS REACHED LIMIT.\n",
      "\n",
      "Increase the number of iterations (max_iter) or scale the data as shown in:\n",
      "    https://scikit-learn.org/stable/modules/preprocessing.html\n",
      "Please also refer to the documentation for alternative solver options:\n",
      "    https://scikit-learn.org/stable/modules/linear_model.html#logistic-regression\n",
      "  n_iter_i = _check_optimize_result(\n",
      "/usr/local/lib/python3.9/site-packages/sklearn/linear_model/_logistic.py:444: ConvergenceWarning: lbfgs failed to converge (status=1):\n",
      "STOP: TOTAL NO. of ITERATIONS REACHED LIMIT.\n",
      "\n",
      "Increase the number of iterations (max_iter) or scale the data as shown in:\n",
      "    https://scikit-learn.org/stable/modules/preprocessing.html\n",
      "Please also refer to the documentation for alternative solver options:\n",
      "    https://scikit-learn.org/stable/modules/linear_model.html#logistic-regression\n",
      "  n_iter_i = _check_optimize_result(\n",
      "/usr/local/lib/python3.9/site-packages/sklearn/linear_model/_logistic.py:444: ConvergenceWarning: lbfgs failed to converge (status=1):\n",
      "STOP: TOTAL NO. of ITERATIONS REACHED LIMIT.\n",
      "\n",
      "Increase the number of iterations (max_iter) or scale the data as shown in:\n",
      "    https://scikit-learn.org/stable/modules/preprocessing.html\n",
      "Please also refer to the documentation for alternative solver options:\n",
      "    https://scikit-learn.org/stable/modules/linear_model.html#logistic-regression\n",
      "  n_iter_i = _check_optimize_result(\n",
      "/usr/local/lib/python3.9/site-packages/sklearn/linear_model/_logistic.py:444: ConvergenceWarning: lbfgs failed to converge (status=1):\n",
      "STOP: TOTAL NO. of ITERATIONS REACHED LIMIT.\n",
      "\n",
      "Increase the number of iterations (max_iter) or scale the data as shown in:\n",
      "    https://scikit-learn.org/stable/modules/preprocessing.html\n",
      "Please also refer to the documentation for alternative solver options:\n",
      "    https://scikit-learn.org/stable/modules/linear_model.html#logistic-regression\n",
      "  n_iter_i = _check_optimize_result(\n",
      "/usr/local/lib/python3.9/site-packages/sklearn/linear_model/_logistic.py:444: ConvergenceWarning: lbfgs failed to converge (status=1):\n",
      "STOP: TOTAL NO. of ITERATIONS REACHED LIMIT.\n",
      "\n",
      "Increase the number of iterations (max_iter) or scale the data as shown in:\n",
      "    https://scikit-learn.org/stable/modules/preprocessing.html\n",
      "Please also refer to the documentation for alternative solver options:\n",
      "    https://scikit-learn.org/stable/modules/linear_model.html#logistic-regression\n",
      "  n_iter_i = _check_optimize_result(\n",
      "/usr/local/lib/python3.9/site-packages/sklearn/linear_model/_logistic.py:444: ConvergenceWarning: lbfgs failed to converge (status=1):\n",
      "STOP: TOTAL NO. of ITERATIONS REACHED LIMIT.\n",
      "\n",
      "Increase the number of iterations (max_iter) or scale the data as shown in:\n",
      "    https://scikit-learn.org/stable/modules/preprocessing.html\n",
      "Please also refer to the documentation for alternative solver options:\n",
      "    https://scikit-learn.org/stable/modules/linear_model.html#logistic-regression\n",
      "  n_iter_i = _check_optimize_result(\n",
      "/usr/local/lib/python3.9/site-packages/sklearn/linear_model/_logistic.py:444: ConvergenceWarning: lbfgs failed to converge (status=1):\n",
      "STOP: TOTAL NO. of ITERATIONS REACHED LIMIT.\n",
      "\n",
      "Increase the number of iterations (max_iter) or scale the data as shown in:\n",
      "    https://scikit-learn.org/stable/modules/preprocessing.html\n",
      "Please also refer to the documentation for alternative solver options:\n",
      "    https://scikit-learn.org/stable/modules/linear_model.html#logistic-regression\n",
      "  n_iter_i = _check_optimize_result(\n",
      "/usr/local/lib/python3.9/site-packages/sklearn/linear_model/_logistic.py:444: ConvergenceWarning: lbfgs failed to converge (status=1):\n",
      "STOP: TOTAL NO. of ITERATIONS REACHED LIMIT.\n",
      "\n",
      "Increase the number of iterations (max_iter) or scale the data as shown in:\n",
      "    https://scikit-learn.org/stable/modules/preprocessing.html\n",
      "Please also refer to the documentation for alternative solver options:\n",
      "    https://scikit-learn.org/stable/modules/linear_model.html#logistic-regression\n",
      "  n_iter_i = _check_optimize_result(\n",
      "/usr/local/lib/python3.9/site-packages/sklearn/linear_model/_logistic.py:444: ConvergenceWarning: lbfgs failed to converge (status=1):\n",
      "STOP: TOTAL NO. of ITERATIONS REACHED LIMIT.\n",
      "\n",
      "Increase the number of iterations (max_iter) or scale the data as shown in:\n",
      "    https://scikit-learn.org/stable/modules/preprocessing.html\n",
      "Please also refer to the documentation for alternative solver options:\n",
      "    https://scikit-learn.org/stable/modules/linear_model.html#logistic-regression\n",
      "  n_iter_i = _check_optimize_result(\n"
     ]
    },
    {
     "name": "stdout",
     "output_type": "stream",
     "text": [
      "Accuracy when k =05: 0.945 (0.007)\n",
      "Accuracy when k =10: 0.947 (0.010)\n"
     ]
    }
   ],
   "source": [
    "#\n",
    "# Creating training data set from bag-of-words  and dummy label\n",
    "#\n",
    "X = bag.toarray()\n",
    "y = data['feedback']\n",
    " \n",
    "from sklearn.model_selection import train_test_split\n",
    "from sklearn.linear_model import LogisticRegression\n",
    "from sklearn import metrics\n",
    "from sklearn.model_selection import KFold\n",
    "from sklearn.model_selection import cross_val_score\n",
    "from numpy import mean\n",
    "from numpy import std\n",
    "#\n",
    "# Create training and test split\n",
    "#\n",
    "\n",
    "X_train, X_test, y_train, y_test = train_test_split(X, y)\n",
    "#\n",
    "# Create an instance of LogisticRegression classifier\n",
    "#\n",
    "lr = LogisticRegression(C=100.0, random_state=1, solver='lbfgs', multi_class='ovr')\n",
    "#\n",
    "# Fit the model\n",
    "#\n",
    "lr.fit(X_train, y_train)\n",
    "#\n",
    "# Create the predictions\n",
    "#\n",
    "y_predict = lr.predict(X_test)\n",
    "  \n",
    "# Use metrics.accuracy_score to measure the score\n",
    "print(\"LogisticRegression Accuracy %.3f\" %metrics.accuracy_score(y_test, y_predict))\n",
    "\n",
    "# evaluate model using k-fold cross-validation\n",
    "# prepare the cross-validation procedure\n",
    "cv05 = KFold(n_splits=5, random_state=1, shuffle=True)\n",
    "cv10 = KFold(n_splits=10, random_state=1, shuffle=True)\n",
    "# evaluate model\n",
    "scores05_accuracy = cross_val_score(lr, X, y, scoring='accuracy', cv=cv05, n_jobs=-1)\n",
    "scores10_accuracy = cross_val_score(lr, X, y, scoring='accuracy', cv=cv10, n_jobs=-1)\n",
    "print('Accuracy when k =05: %.3f (%.3f)' % (mean(scores05_accuracy), std(scores05_accuracy)))\n",
    "print('Accuracy when k =10: %.3f (%.3f)' % (mean(scores10_accuracy), std(scores10_accuracy)))"
   ]
  },
  {
   "cell_type": "markdown",
   "id": "71e93108",
   "metadata": {},
   "source": [
    "#### Tuning parameters for logistic regression"
   ]
  },
  {
   "cell_type": "code",
   "execution_count": 7,
   "id": "f7b3cb53",
   "metadata": {},
   "outputs": [],
   "source": [
    "# from sklearn.model_selection import RepeatedStratifiedKFold\n",
    "# from sklearn.model_selection import GridSearchCV\n",
    "# solvers = ['newton-cg', 'lbfgs', 'liblinear']\n",
    "# penalty = ['l2']\n",
    "# c_values = [100, 10, 1]\n",
    "# # define grid search\n",
    "# grid = dict(solver=solvers,penalty=penalty,C=c_values)\n",
    "# cv = RepeatedStratifiedKFold(n_splits=10, n_repeats=1, random_state=1)\n",
    "# grid_search = GridSearchCV(estimator=lr, param_grid=grid, n_jobs=-1, cv=cv, scoring='accuracy',error_score=0)\n",
    "# grid_result = grid_search.fit(X, y)\n",
    "# # summarize results\n",
    "# print(\"Best: %f using %s\" % (grid_result.best_score_, grid_result.best_params_))\n",
    "# means = grid_result.cv_results_['mean_test_score']\n",
    "# stds = grid_result.cv_results_['std_test_score']\n",
    "# params = grid_result.cv_results_['params']\n",
    "# for mean, stdev, param in zip(means, stds, params):\n",
    "#     print(\"%f (%f) with: %r\" % (mean, stdev, param))\n"
   ]
  },
  {
   "cell_type": "markdown",
   "id": "690d14be",
   "metadata": {},
   "source": [
    "#### Select best model for prediction"
   ]
  },
  {
   "cell_type": "code",
   "execution_count": 8,
   "id": "9c399159",
   "metadata": {},
   "outputs": [
    {
     "name": "stdout",
     "output_type": "stream",
     "text": [
      "LogisticRegression Accuracy 0.945\n",
      "Accuracy when k =05: 0.946 (0.010)\n",
      "Accuracy when k =10: 0.948 (0.012)\n"
     ]
    }
   ],
   "source": [
    "lr = LogisticRegression(C=10,  random_state=1, solver='liblinear', penalty= 'l2')\n",
    "#\n",
    "# Fit the model\n",
    "#\n",
    "lr.fit(X_train, y_train)\n",
    "#\n",
    "# Create the predictions\n",
    "#\n",
    "y_predict = lr.predict(X_test)\n",
    "  \n",
    "lr_accuracy = metrics.accuracy_score(y_test, y_predict)\n",
    "# Use metrics.accuracy_score to measure the score\n",
    "print(\"LogisticRegression Accuracy %.3f\" %lr_accuracy)\n",
    "# evaluate model using k-fold cross-validation\n",
    "# prepare the cross-validation procedure\n",
    "cv05 = KFold(n_splits=5, random_state=1, shuffle=True)\n",
    "cv10 = KFold(n_splits=10, random_state=1, shuffle=True)\n",
    "# evaluate model\n",
    "scores05_accuracy = cross_val_score(lr, X, y, scoring='accuracy', cv=cv05, n_jobs=-1)\n",
    "scores10_accuracy = cross_val_score(lr, X, y, scoring='accuracy', cv=cv10, n_jobs=-1)\n",
    "print('Accuracy when k =05: %.3f (%.3f)' % (mean(scores05_accuracy), std(scores05_accuracy)))\n",
    "print('Accuracy when k =10: %.3f (%.3f)' % (mean(scores10_accuracy), std(scores10_accuracy)))"
   ]
  },
  {
   "cell_type": "code",
   "execution_count": null,
   "id": "06d02bc1",
   "metadata": {},
   "outputs": [],
   "source": []
  },
  {
   "cell_type": "markdown",
   "id": "8e2a12b2",
   "metadata": {},
   "source": [
    "### 2. K-Nearest Neighbors (KNN)"
   ]
  },
  {
   "cell_type": "code",
   "execution_count": 9,
   "id": "05310e8f",
   "metadata": {},
   "outputs": [
    {
     "name": "stdout",
     "output_type": "stream",
     "text": [
      "KNeighborsClassifier Accuracy 0.882\n",
      "Accuracy when k =05: 0.927 (0.012)\n",
      "Accuracy when k =10: 0.930 (0.015)\n"
     ]
    }
   ],
   "source": [
    "from sklearn.neighbors import KNeighborsClassifier\n",
    "#\n",
    "# Create an instance of KNeighbors classifier\n",
    "#\n",
    "knc = KNeighborsClassifier(n_neighbors=1)\n",
    "#\n",
    "# Fit the model\n",
    "#\n",
    "knc.fit(X_train, y_train)\n",
    "#\n",
    "# Create the predictions\n",
    "#\n",
    "y_predict = knc.predict(X_test)\n",
    "  \n",
    "# Use metrics.accuracy_score to measure the score\n",
    "print(\"KNeighborsClassifier Accuracy %.3f\" %metrics.accuracy_score(y_test, y_predict))\n",
    "# evaluate model using k-fold cross-validation\n",
    "# prepare the cross-validation procedure\n",
    "cv05 = KFold(n_splits=5, random_state=1, shuffle=True)\n",
    "cv10 = KFold(n_splits=10, random_state=1, shuffle=True)\n",
    "# evaluate model\n",
    "scores05_accuracy = cross_val_score(knc, X, y, scoring='accuracy', cv=cv05, n_jobs=-1)\n",
    "scores10_accuracy = cross_val_score(knc, X, y, scoring='accuracy', cv=cv10, n_jobs=-1)\n",
    "print('Accuracy when k =05: %.3f (%.3f)' % (mean(scores05_accuracy), std(scores05_accuracy)))\n",
    "print('Accuracy when k =10: %.3f (%.3f)' % (mean(scores10_accuracy), std(scores10_accuracy)))"
   ]
  },
  {
   "cell_type": "markdown",
   "id": "fd103787",
   "metadata": {},
   "source": [
    "#### Tuning parameters for KNeighborsClassifier"
   ]
  },
  {
   "cell_type": "code",
   "execution_count": 11,
   "id": "4b852422",
   "metadata": {},
   "outputs": [],
   "source": [
    "# from sklearn.model_selection import GridSearchCV\n",
    "# from sklearn.model_selection import RepeatedStratifiedKFold\n",
    "# n_neighbors = range(1, 21, 2)\n",
    "# weights = ['uniform', 'distance']\n",
    "# metric = ['euclidean', 'manhattan', 'minkowski']\n",
    "# # define grid search\n",
    "# grid = dict(n_neighbors=n_neighbors,weights=weights,metric=metric)\n",
    "# cv = RepeatedStratifiedKFold(n_splits=10, n_repeats=3, random_state=1)\n",
    "# grid_search = GridSearchCV(estimator=knc, param_grid=grid, n_jobs=-1, cv=cv, scoring='accuracy',error_score=0)\n",
    "# grid_result = grid_search.fit(X, y)\n",
    "# # summarize results\n",
    "# print(\"Best: %f using %s\" % (grid_result.best_score_, grid_result.best_params_))\n",
    "# means = grid_result.cv_results_['mean_test_score']\n",
    "# stds = grid_result.cv_results_['std_test_score']\n",
    "# params = grid_result.cv_results_['params']\n",
    "# for mean, stdev, param in zip(means, stds, params):\n",
    "#     print(\"%f (%f) with: %r\" % (mean, stdev, param))"
   ]
  },
  {
   "cell_type": "markdown",
   "id": "f62ec524",
   "metadata": {},
   "source": [
    "#### Select best model for prediction"
   ]
  },
  {
   "cell_type": "code",
   "execution_count": 12,
   "id": "83b81189",
   "metadata": {},
   "outputs": [
    {
     "name": "stdout",
     "output_type": "stream",
     "text": [
      "KNeighborsClassifier Accuracy 0.886\n",
      "Accuracy when k =05: 0.933 (0.014)\n",
      "Accuracy when k =10: 0.937 (0.017)\n"
     ]
    }
   ],
   "source": [
    "knc = KNeighborsClassifier(metric= 'manhattan', n_neighbors= 1, weights='uniform')\n",
    "#\n",
    "# Fit the model\n",
    "#\n",
    "knc.fit(X_train, y_train)\n",
    "#\n",
    "# Create the predictions\n",
    "#\n",
    "y_predict = knc.predict(X_test)\n",
    "  \n",
    "knc_accuracy = metrics.accuracy_score(y_test, y_predict)\n",
    "# Use metrics.accuracy_score to measure the score\n",
    "print(\"KNeighborsClassifier Accuracy %.3f\" %knc_accuracy)\n",
    "# prepare the cross-validation procedure\n",
    "cv05 = KFold(n_splits=5, random_state=1, shuffle=True)\n",
    "cv10 = KFold(n_splits=10, random_state=1, shuffle=True)\n",
    "# evaluate model\n",
    "scores05_accuracy = cross_val_score(knc, X, y, scoring='accuracy', cv=cv05, n_jobs=-1)\n",
    "scores10_accuracy = cross_val_score(knc, X, y, scoring='accuracy', cv=cv10, n_jobs=-1)\n",
    "print('Accuracy when k =05: %.3f (%.3f)' % (mean(scores05_accuracy), std(scores05_accuracy)))\n",
    "print('Accuracy when k =10: %.3f (%.3f)' % (mean(scores10_accuracy), std(scores10_accuracy)))"
   ]
  },
  {
   "cell_type": "code",
   "execution_count": null,
   "id": "35df415b",
   "metadata": {},
   "outputs": [],
   "source": []
  },
  {
   "cell_type": "markdown",
   "id": "34764818",
   "metadata": {},
   "source": [
    "### 3. Support Vector Machine (SVM)"
   ]
  },
  {
   "cell_type": "code",
   "execution_count": 13,
   "id": "ee22f517",
   "metadata": {},
   "outputs": [
    {
     "name": "stdout",
     "output_type": "stream",
     "text": [
      "SVC Accuracy 0.910\n",
      "Accuracy when k =05: 0.923 (0.008)\n",
      "Accuracy when k =10: 0.925 (0.010)\n"
     ]
    }
   ],
   "source": [
    "from sklearn.svm import SVC\n",
    "#\n",
    "# Create an instance of SVC classifier\n",
    "#\n",
    "svc = SVC()\n",
    "#\n",
    "# Fit the model\n",
    "#\n",
    "svc.fit(X_train, y_train)\n",
    "#\n",
    "# Create the predictions\n",
    "#\n",
    "y_predict = svc.predict(X_test)\n",
    "  \n",
    "# Use metrics.accuracy_score to measure the score\n",
    "print(\"SVC Accuracy %.3f\" %metrics.accuracy_score(y_test, y_predict))\n",
    "# prepare the cross-validation procedure\n",
    "cv05 = KFold(n_splits=5, random_state=1, shuffle=True)\n",
    "cv10 = KFold(n_splits=10, random_state=1, shuffle=True)\n",
    "# evaluate model\n",
    "scores05_accuracy = cross_val_score(svc, X, y, scoring='accuracy', cv=cv05, n_jobs=-1)\n",
    "scores10_accuracy = cross_val_score(svc, X, y, scoring='accuracy', cv=cv10, n_jobs=-1)\n",
    "print('Accuracy when k =05: %.3f (%.3f)' % (mean(scores05_accuracy), std(scores05_accuracy)))\n",
    "print('Accuracy when k =10: %.3f (%.3f)' % (mean(scores10_accuracy), std(scores10_accuracy)))"
   ]
  },
  {
   "cell_type": "markdown",
   "id": "faad3fac",
   "metadata": {},
   "source": [
    "#### Tuning parameters for SVC"
   ]
  },
  {
   "cell_type": "code",
   "execution_count": 14,
   "id": "9e42795d",
   "metadata": {},
   "outputs": [],
   "source": [
    "# C = [50, 10, 1.0]\n",
    "# gamma = ['scale']\n",
    "# # define grid search\n",
    "# grid = dict(kernel=kernel,C=C,gamma=gamma)\n",
    "# cv = RepeatedStratifiedKFold(n_splits=10, n_repeats=3, random_state=1)\n",
    "# grid_search = GridSearchCV(estimator=svc, param_grid=grid, n_jobs=-1, cv=cv, scoring='accuracy',error_score=0)\n",
    "# grid_result = grid_search.fit(X, y)\n",
    "# # summarize results\n",
    "# print(\"Best: %f using %s\" % (grid_result.best_score_, grid_result.best_params_))\n",
    "# means = grid_result.cv_results_['mean_test_score']\n",
    "# stds = grid_result.cv_results_['std_test_score']\n",
    "# params = grid_result.cv_results_['params']\n",
    "# for mean, stdev, param in zip(means, stds, params):\n",
    "#     print(\"%f (%f) with: %r\" % (mean, stdev, param))"
   ]
  },
  {
   "cell_type": "markdown",
   "id": "72741cba",
   "metadata": {},
   "source": [
    "#### Select best model for prediction"
   ]
  },
  {
   "cell_type": "code",
   "execution_count": 15,
   "id": "0e452256",
   "metadata": {},
   "outputs": [
    {
     "name": "stdout",
     "output_type": "stream",
     "text": [
      "SVC Accuracy 0.910\n",
      "Accuracy when k =05: 0.923 (0.008)\n",
      "Accuracy when k =10: 0.925 (0.010)\n"
     ]
    }
   ],
   "source": [
    "svc = SVC()\n",
    "#\n",
    "# Fit the model\n",
    "#\n",
    "svc.fit(X_train, y_train)\n",
    "#\n",
    "# Create the predictions\n",
    "#\n",
    "y_predict = svc.predict(X_test)\n",
    "  \n",
    "svc_accuracy=metrics.accuracy_score(y_test, y_predict)\n",
    "# Use metrics.accuracy_score to measure the score\n",
    "print(\"SVC Accuracy %.3f\" %svc_accuracy)\n",
    "# prepare the cross-validation procedure\n",
    "cv05 = KFold(n_splits=5, random_state=1, shuffle=True)\n",
    "cv10 = KFold(n_splits=10, random_state=1, shuffle=True)\n",
    "# evaluate model\n",
    "scores05_accuracy = cross_val_score(svc, X, y, scoring='accuracy', cv=cv05, n_jobs=-1)\n",
    "scores10_accuracy = cross_val_score(svc, X, y, scoring='accuracy', cv=cv10, n_jobs=-1)\n",
    "print('Accuracy when k =05: %.3f (%.3f)' % (mean(scores05_accuracy), std(scores05_accuracy)))\n",
    "print('Accuracy when k =10: %.3f (%.3f)' % (mean(scores10_accuracy), std(scores10_accuracy)))"
   ]
  },
  {
   "cell_type": "code",
   "execution_count": null,
   "id": "242a8ca2",
   "metadata": {},
   "outputs": [],
   "source": []
  },
  {
   "cell_type": "markdown",
   "id": "ad8589d1",
   "metadata": {},
   "source": [
    "### 4. Bagged Decision Trees (Bagging)"
   ]
  },
  {
   "cell_type": "code",
   "execution_count": 16,
   "id": "4787980d",
   "metadata": {},
   "outputs": [
    {
     "name": "stdout",
     "output_type": "stream",
     "text": [
      "Bagged Decision Trees Accuracy 0.924\n",
      "Accuracy when k =05: 0.933 (0.011)\n",
      "Accuracy when k =10: 0.933 (0.012)\n"
     ]
    }
   ],
   "source": [
    "from sklearn.ensemble import BaggingClassifier\n",
    "#\n",
    "# Create an instance of Bagging classifier\n",
    "#\n",
    "bc = BaggingClassifier()\n",
    "#\n",
    "# Fit the model\n",
    "#\n",
    "bc.fit(X_train, y_train)\n",
    "#\n",
    "# Create the predictions\n",
    "#\n",
    "y_predict = bc.predict(X_test)\n",
    "  \n",
    "# Use metrics.accuracy_score to measure the score\n",
    "print(\"Bagged Decision Trees Accuracy %.3f\" %metrics.accuracy_score(y_test, y_predict))\n",
    "# prepare the cross-validation procedure\n",
    "cv05 = KFold(n_splits=5, random_state=1, shuffle=True)\n",
    "cv10 = KFold(n_splits=10, random_state=1, shuffle=True)\n",
    "# evaluate model\n",
    "scores05_accuracy = cross_val_score(bc, X, y, scoring='accuracy', cv=cv05, n_jobs=-1)\n",
    "scores10_accuracy = cross_val_score(bc, X, y, scoring='accuracy', cv=cv10, n_jobs=-1)\n",
    "print('Accuracy when k =05: %.3f (%.3f)' % (mean(scores05_accuracy), std(scores05_accuracy)))\n",
    "print('Accuracy when k =10: %.3f (%.3f)' % (mean(scores10_accuracy), std(scores10_accuracy)))"
   ]
  },
  {
   "cell_type": "markdown",
   "id": "3d49d759",
   "metadata": {},
   "source": [
    "#### Tuning parameters for Bagged Decision Trees"
   ]
  },
  {
   "cell_type": "code",
   "execution_count": 17,
   "id": "d9de3a82",
   "metadata": {},
   "outputs": [],
   "source": [
    "# n_estimators = [10, 100, 1000]\n",
    "# # define grid search\n",
    "# grid = dict(n_estimators=n_estimators)\n",
    "# cv = RepeatedStratifiedKFold(n_splits=10, n_repeats=3, random_state=1)\n",
    "# grid_search = GridSearchCV(estimator=bc, param_grid=grid, n_jobs=-1, cv=cv, scoring='accuracy',error_score=0)\n",
    "# grid_result = grid_search.fit(X, y)\n",
    "# # summarize results\n",
    "# print(\"Best: %f using %s\" % (grid_result.best_score_, grid_result.best_params_))\n",
    "# means = grid_result.cv_results_['mean_test_score']\n",
    "# stds = grid_result.cv_results_['std_test_score']\n",
    "# params = grid_result.cv_results_['params']\n",
    "# for mean, stdev, param in zip(means, stds, params):\n",
    "#     print(\"%f (%f) with: %r\" % (mean, stdev, param))"
   ]
  },
  {
   "cell_type": "code",
   "execution_count": null,
   "id": "4027f235",
   "metadata": {},
   "outputs": [],
   "source": []
  },
  {
   "cell_type": "markdown",
   "id": "58631fb2",
   "metadata": {},
   "source": [
    "#### Select best model for prediction"
   ]
  },
  {
   "cell_type": "code",
   "execution_count": 18,
   "id": "92096782",
   "metadata": {},
   "outputs": [
    {
     "name": "stdout",
     "output_type": "stream",
     "text": [
      "Bagged Decision Trees Accuracy 0.923\n",
      "Accuracy when k =05: 0.934 (0.014)\n",
      "Accuracy when k =10: 0.935 (0.013)\n"
     ]
    }
   ],
   "source": [
    "bc = BaggingClassifier()\n",
    "#\n",
    "# Fit the model\n",
    "#\n",
    "bc.fit(X_train, y_train)\n",
    "#\n",
    "# Create the predictions\n",
    "#\n",
    "y_predict = bc.predict(X_test)\n",
    "  \n",
    "bc_accuracy=metrics.accuracy_score(y_test, y_predict)\n",
    "# Use metrics.accuracy_score to measure the score\n",
    "print(\"Bagged Decision Trees Accuracy %.3f\" %bc_accuracy)\n",
    "# prepare the cross-validation procedure\n",
    "cv05 = KFold(n_splits=5, random_state=1, shuffle=True)\n",
    "cv10 = KFold(n_splits=10, random_state=1, shuffle=True)\n",
    "# evaluate model\n",
    "scores05_accuracy = cross_val_score(bc, X, y, scoring='accuracy', cv=cv05, n_jobs=-1)\n",
    "scores10_accuracy = cross_val_score(bc, X, y, scoring='accuracy', cv=cv10, n_jobs=-1)\n",
    "print('Accuracy when k =05: %.3f (%.3f)' % (mean(scores05_accuracy), std(scores05_accuracy)))\n",
    "print('Accuracy when k =10: %.3f (%.3f)' % (mean(scores10_accuracy), std(scores10_accuracy)))"
   ]
  },
  {
   "cell_type": "code",
   "execution_count": null,
   "id": "ac0d51dc",
   "metadata": {},
   "outputs": [],
   "source": []
  },
  {
   "cell_type": "markdown",
   "id": "fb6d5bc0",
   "metadata": {},
   "source": [
    "### 5. Random Forest"
   ]
  },
  {
   "cell_type": "code",
   "execution_count": 19,
   "id": "cb49827b",
   "metadata": {},
   "outputs": [
    {
     "name": "stdout",
     "output_type": "stream",
     "text": [
      "Random Forest Classifier Accuracy 0.925\n",
      "Accuracy when k =05: 0.932 (0.010)\n",
      "Accuracy when k =10: 0.938 (0.011)\n"
     ]
    }
   ],
   "source": [
    "from sklearn.ensemble import RandomForestClassifier\n",
    "#\n",
    "# Create an instance of RandomForest classifier\n",
    "#\n",
    "rfc = RandomForestClassifier()\n",
    "#\n",
    "# Fit the model\n",
    "#\n",
    "rfc.fit(X_train, y_train)\n",
    "#\n",
    "# Create the predictions\n",
    "#\n",
    "y_predict = rfc.predict(X_test)\n",
    "  \n",
    "# Use metrics.accuracy_score to measure the score\n",
    "print(\"Random Forest Classifier Accuracy %.3f\" %metrics.accuracy_score(y_test, y_predict))\n",
    "# prepare the cross-validation procedure\n",
    "cv05 = KFold(n_splits=5, random_state=1, shuffle=True)\n",
    "cv10 = KFold(n_splits=10, random_state=1, shuffle=True)\n",
    "# evaluate model\n",
    "scores05_accuracy = cross_val_score(rfc, X, y, scoring='accuracy', cv=cv05, n_jobs=-1)\n",
    "scores10_accuracy = cross_val_score(rfc, X, y, scoring='accuracy', cv=cv10, n_jobs=-1)\n",
    "print('Accuracy when k =05: %.3f (%.3f)' % (mean(scores05_accuracy), std(scores05_accuracy)))\n",
    "print('Accuracy when k =10: %.3f (%.3f)' % (mean(scores10_accuracy), std(scores10_accuracy)))"
   ]
  },
  {
   "cell_type": "markdown",
   "id": "89e4dadd",
   "metadata": {},
   "source": [
    "#### Tuning parameters for Random Forest"
   ]
  },
  {
   "cell_type": "code",
   "execution_count": 20,
   "id": "3111ccf2",
   "metadata": {},
   "outputs": [],
   "source": [
    "# n_estimators = [10, 100, 1000]\n",
    "# max_features = ['sqrt', 'log2']\n",
    "# # define grid search\n",
    "# grid = dict(n_estimators=n_estimators,max_features=max_features)\n",
    "# cv = RepeatedStratifiedKFold(n_splits=10, n_repeats=3, random_state=1)\n",
    "# grid_search = GridSearchCV(estimator=rfc, param_grid=grid, n_jobs=-1, cv=cv, scoring='accuracy',error_score=0)\n",
    "# grid_result = grid_search.fit(X, y)\n",
    "# # summarize results\n",
    "# print(\"Best: %f using %s\" % (grid_result.best_score_, grid_result.best_params_))\n",
    "# means = grid_result.cv_results_['mean_test_score']\n",
    "# stds = grid_result.cv_results_['std_test_score']\n",
    "# params = grid_result.cv_results_['params']\n",
    "# for mean, stdev, param in zip(means, stds, params):\n",
    "#     print(\"%f (%f) with: %r\" % (mean, stdev, param))"
   ]
  },
  {
   "cell_type": "markdown",
   "id": "f8cef15c",
   "metadata": {},
   "source": [
    "#### Select best model for prediction"
   ]
  },
  {
   "cell_type": "code",
   "execution_count": 21,
   "id": "2dc11298",
   "metadata": {},
   "outputs": [
    {
     "name": "stdout",
     "output_type": "stream",
     "text": [
      "Random Forest Accuracy 0.926\n",
      "Accuracy when k =05: 0.933 (0.010)\n",
      "Accuracy when k =10: 0.938 (0.011)\n"
     ]
    }
   ],
   "source": [
    "rfc = RandomForestClassifier()\n",
    "#\n",
    "# Fit the model\n",
    "#\n",
    "rfc.fit(X_train, y_train)\n",
    "#\n",
    "# Create the predictions\n",
    "#\n",
    "y_predict = rfc.predict(X_test)\n",
    "  \n",
    "rfc_accuracy=metrics.accuracy_score(y_test, y_predict)\n",
    "# Use metrics.accuracy_score to measure the score\n",
    "print(\"Random Forest Accuracy %.3f\" %rfc_accuracy)\n",
    "# prepare the cross-validation procedure\n",
    "cv05 = KFold(n_splits=5, random_state=1, shuffle=True)\n",
    "cv10 = KFold(n_splits=10, random_state=1, shuffle=True)\n",
    "# evaluate model\n",
    "scores05_accuracy = cross_val_score(rfc, X, y, scoring='accuracy', cv=cv05, n_jobs=-1)\n",
    "scores10_accuracy = cross_val_score(rfc, X, y, scoring='accuracy', cv=cv10, n_jobs=-1)\n",
    "print('Accuracy when k =05: %.3f (%.3f)' % (mean(scores05_accuracy), std(scores05_accuracy)))\n",
    "print('Accuracy when k =10: %.3f (%.3f)' % (mean(scores10_accuracy), std(scores10_accuracy)))"
   ]
  },
  {
   "cell_type": "code",
   "execution_count": null,
   "id": "10e9b11c",
   "metadata": {},
   "outputs": [],
   "source": []
  },
  {
   "cell_type": "markdown",
   "id": "d818009b",
   "metadata": {},
   "source": [
    "### Visualize model accuracies\n"
   ]
  },
  {
   "cell_type": "code",
   "execution_count": 22,
   "id": "8355b142",
   "metadata": {},
   "outputs": [
    {
     "data": {
      "image/png": "[encoded data removed]",
      "text/plain": [
       "<Figure size 432x288 with 1 Axes>"
      ]
     },
     "metadata": {
      "needs_background": "light"
     },
     "output_type": "display_data"
    }
   ],
   "source": [
    "import matplotlib.pyplot as plt\n",
    "fig = plt.figure()\n",
    "ax = fig.add_axes([0,0,1,1])\n",
    "models = ['LogisticRegression', 'KNN', 'SVM', 'Decision Trees', 'Random Forest']\n",
    "accuracies = [lr_accuracy,knc_accuracy,svc_accuracy,bc_accuracy,rfc_accuracy]\n",
    "ax.bar(models,accuracies)\n",
    "plt.show()"
   ]
  },
  {
   "cell_type": "code",
   "execution_count": 23,
   "id": "805dd8a9",
   "metadata": {},
   "outputs": [
    {
     "name": "stdout",
     "output_type": "stream",
     "text": [
      "Best model is :  LogisticRegression\n"
     ]
    }
   ],
   "source": [
    "print(\"Best model is : \", models[accuracies.index(max(accuracies))])"
   ]
  },
  {
   "cell_type": "markdown",
   "id": "f5353ebe",
   "metadata": {},
   "source": [
    "#### According to above model accurecies best model is and predict the topic "
   ]
  },
  {
   "cell_type": "code",
   "execution_count": null,
   "id": "d8263fff",
   "metadata": {},
   "outputs": [],
   "source": []
  },
  {
   "cell_type": "markdown",
   "id": "7f752d50",
   "metadata": {},
   "source": [
    "#### Predict the topic "
   ]
  },
  {
   "cell_type": "code",
   "execution_count": 37,
   "id": "b2edb155",
   "metadata": {},
   "outputs": [],
   "source": [
    "topic_lst = ['device time screen light music sound increase decrease try34 cable',\n",
    " 'echo good reminder adapter amazon power issue internet regular thing',\n",
    " 'alexa question simple clock house great product easy computer correct',\n",
    " 'product wifi music prime listen improvement handy answer setting order',\n",
    " 'weird noise reason music happy time great speaker conflict echos',\n",
    " 'love music great size sound echo setup repair spot prime',\n",
    " 'able home conversation need thing less light love news exact',\n",
    " 'connection echo issue show internet work slow music item cozi',\n",
    " 'clock package screen forecast chance large gift birthday damage step',\n",
    " 'device speaker light thing turn full room sound alexa little',\n",
    " 'time buying connection stick alexa foot dot room echosecho well',\n",
    " 'purchasing weather echo news struggle bandwagon day option device lightbulb',\n",
    " 'light music good thing device smart full feature speaker great',\n",
    " 'music great time alexa sound wifi component size month many',\n",
    " 'speaker white option black cord unit volume show tooth alexa',\n",
    " 'free phone bulb device thing keyboard number purchase good control',\n",
    " 'philip light bridge time line issue machine firmware support advance',\n",
    " 'price quality able sound user computer radio work request time',\n",
    " 'youtube thing feature advantage late start blue fault find big',\n",
    " 'time amazing disappointing computer occasion microphone show unable push stream',\n",
    " 'video show amazon fire device love music time thing search',\n",
    " 'nice product issue good work echo quality time adapter power',\n",
    " 'time good skill great music product show repair screen firmware',\n",
    " 'speaker echo music device apartment good well great item love',\n",
    " 'device many echo sound screen thing money price regular great',\n",
    " 'basic nest review speech spot upload weather surprised fact software',\n",
    " 'setup easy device help support friend tech talk yell activated',\n",
    " 'audio wifi echo speaker device product thing sound buzzing alarm',\n",
    " 'card regular work echo product time easy much device display',\n",
    " 'ability love video front yard clock friend couple door capability',\n",
    " 'screen sound alexa quality device product video useful annoying difference',\n",
    " 'device time love several video connect echo many play fine',\n",
    " 'alexa quality device sound prime price internet used difference service',\n",
    " 'show question home volume device month time overdriven point34 usefulhalf',\n",
    " 'alexa speaker time touch amazon wifi responsive stick able star',\n",
    " 'friend good email thing boat time reset problem response install',\n",
    " 'screen device product thing content amazon instruction audio prime speaker',\n",
    " 'thing haha smart yesterday night book control brightness light setup',\n",
    " 'smart alexa music book audible account differentiate need today impressed',\n",
    " 'device time echo instruction many several aware clear regular sound']"
   ]
  },
  {
   "cell_type": "code",
   "execution_count": 39,
   "id": "1377c760",
   "metadata": {},
   "outputs": [
    {
     "name": "stdout",
     "output_type": "stream",
     "text": [
      "Topic :  device time screen light music sound increase decrease try34 cable  - A Positive\n",
      "Topic :  echo good reminder adapter amazon power issue internet regular thing  - A Positive\n",
      "Topic :  alexa question simple clock house great product easy computer correct  - A Positive\n",
      "Topic :  product wifi music prime listen improvement handy answer setting order  - A Positive\n",
      "Topic :  weird noise reason music happy time great speaker conflict echos  - A Positive\n",
      "Topic :  love music great size sound echo setup repair spot prime  - A Positive\n",
      "Topic :  able home conversation need thing less light love news exact  - A Positive\n",
      "Topic :  connection echo issue show internet work slow music item cozi  - A Negative\n",
      "Topic :  clock package screen forecast chance large gift birthday damage step  - A Positive\n",
      "Topic :  device speaker light thing turn full room sound alexa little  - A Positive\n",
      "Topic :  time buying connection stick alexa foot dot room echosecho well  - A Positive\n",
      "Topic :  purchasing weather echo news struggle bandwagon day option device lightbulb  - A Positive\n",
      "Topic :  light music good thing device smart full feature speaker great  - A Positive\n",
      "Topic :  music great time alexa sound wifi component size month many  - A Positive\n",
      "Topic :  speaker white option black cord unit volume show tooth alexa  - A Positive\n",
      "Topic :  free phone bulb device thing keyboard number purchase good control  - A Positive\n",
      "Topic :  philip light bridge time line issue machine firmware support advance  - A Positive\n",
      "Topic :  price quality able sound user computer radio work request time  - A Positive\n",
      "Topic :  youtube thing feature advantage late start blue fault find big  - A Positive\n",
      "Topic :  time amazing disappointing computer occasion microphone show unable push stream  - A Positive\n",
      "Topic :  video show amazon fire device love music time thing search  - A Positive\n",
      "Topic :  nice product issue good work echo quality time adapter power  - A Positive\n",
      "Topic :  time good skill great music product show repair screen firmware  - A Positive\n",
      "Topic :  speaker echo music device apartment good well great item love  - A Positive\n",
      "Topic :  device many echo sound screen thing money price regular great  - A Positive\n",
      "Topic :  basic nest review speech spot upload weather surprised fact software  - A Positive\n",
      "Topic :  setup easy device help support friend tech talk yell activated  - A Positive\n",
      "Topic :  audio wifi echo speaker device product thing sound buzzing alarm  - A Positive\n",
      "Topic :  card regular work echo product time easy much device display  - A Positive\n",
      "Topic :  ability love video front yard clock friend couple door capability  - A Positive\n",
      "Topic :  screen sound alexa quality device product video useful annoying difference  - A Positive\n",
      "Topic :  device time love several video connect echo many play fine  - A Positive\n",
      "Topic :  alexa quality device sound prime price internet used difference service  - A Positive\n",
      "Topic :  show question home volume device month time overdriven point34 usefulhalf  - A Positive\n",
      "Topic :  alexa speaker time touch amazon wifi responsive stick able star  - A Positive\n",
      "Topic :  friend good email thing boat time reset problem response install  - A Positive\n",
      "Topic :  screen device product thing content amazon instruction audio prime speaker  - A Positive\n",
      "Topic :  thing haha smart yesterday night book control brightness light setup  - A Positive\n",
      "Topic :  smart alexa music book audible account differentiate need today impressed  - A Positive\n",
      "Topic :  device time echo instruction many several aware clear regular sound  - A Positive\n"
     ]
    }
   ],
   "source": [
    "for i in topic_lst:\n",
    "    y_pred=lr.predict(vectorizer.transform([i]))\n",
    "    if(y_pred[0]==1):\n",
    "        print(\"Topic : \",i,\" - A Positive\")\n",
    "    else:\n",
    "         print(\"Topic : \",i,\" - A Negative\")"
   ]
  },
  {
   "cell_type": "code",
   "execution_count": null,
   "id": "10eb5f34",
   "metadata": {},
   "outputs": [],
   "source": []
  },
  {
   "cell_type": "code",
   "execution_count": null,
   "id": "0f841de8",
   "metadata": {},
   "outputs": [],
   "source": []
  },
  {
   "cell_type": "code",
   "execution_count": null,
   "id": "a44d0208",
   "metadata": {},
   "outputs": [],
   "source": []
  }
 ],
 "metadata": {
  "kernelspec": {
   "display_name": "Python 3 (ipykernel)",
   "language": "python",
   "name": "python3"
  },
  "language_info": {
   "codemirror_mode": {
    "name": "ipython",
    "version": 3
   },
   "file_extension": ".py",
   "mimetype": "text/x-python",
   "name": "python",
   "nbconvert_exporter": "python",
   "pygments_lexer": "ipython3",
   "version": "3.9.13"
  }
 },
 "nbformat": 4,
 "nbformat_minor": 5
}
